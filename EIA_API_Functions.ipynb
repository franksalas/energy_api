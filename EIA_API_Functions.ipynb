{
 "cells": [
  {
   "cell_type": "code",
   "execution_count": 1,
   "metadata": {},
   "outputs": [],
   "source": [
    "import requests\n",
    "import pandas as pd\n",
    "import numpy as np\n",
    "import matplotlib.pyplot as plt\n",
    "import seaborn as sns\n",
    "from pprint import pprint\n",
    "from datetime import datetime \n",
    "API_KEY = '09d7859f71b9796ca3b1e0c50da15d5b'\n",
    "plt.style.use('ggplot')"
   ]
  },
  {
   "cell_type": "markdown",
   "metadata": {},
   "source": [
    "http://strftime.org/"
   ]
  },
  {
   "cell_type": "markdown",
   "metadata": {},
   "source": [
    "## Create function to call api given `category_id`"
   ]
  },
  {
   "cell_type": "code",
   "execution_count": 2,
   "metadata": {},
   "outputs": [],
   "source": [
    "def api_category(category_id,api_key):\n",
    "    url = 'http://api.eia.gov/category/'\n",
    "    payload = {'api_key':api_key,\n",
    "               'category_id':category_id}\n",
    "    r = requests.get(url, params=payload)\n",
    "    return r.json()"
   ]
  },
  {
   "cell_type": "code",
   "execution_count": null,
   "metadata": {},
   "outputs": [],
   "source": []
  },
  {
   "cell_type": "code",
   "execution_count": null,
   "metadata": {},
   "outputs": [],
   "source": []
  },
  {
   "cell_type": "markdown",
   "metadata": {},
   "source": [
    "## Create function to call api given `series_id`"
   ]
  },
  {
   "cell_type": "code",
   "execution_count": 3,
   "metadata": {},
   "outputs": [],
   "source": [
    "def api_series(series_id,api_key):\n",
    "    '''calls api returns json data'''\n",
    "    url = 'http://api.eia.gov/series/'\n",
    "    payload = {'api_key':api_key,\n",
    "               'series_id':series_id}\n",
    "    r = requests.get(url, params=payload)\n",
    "    return r.json()"
   ]
  },
  {
   "cell_type": "markdown",
   "metadata": {},
   "source": [
    "## Create a function thar returns a dataframe given api call data"
   ]
  },
  {
   "cell_type": "code",
   "execution_count": 4,
   "metadata": {},
   "outputs": [],
   "source": [
    "def data_frame(dic):\n",
    "    '''convert dictionary data into dataframe'''\n",
    "    # if statement to convert date\n",
    "    if dic['series'][0]['f'] == 'M':\n",
    "        #201002\n",
    "        fmat = '%Y%m'\n",
    "    else:\n",
    "        fmat= None\n",
    "    # select data\n",
    "    plot_data = dic['series'][0]['data']\n",
    "    # create dataframe\n",
    "    df = pd.DataFrame.from_dict(plot_data)\n",
    "    # rename cols\n",
    "    df.rename(columns={0: 'date',1: 'value',}, \n",
    "              inplace=True)\n",
    "    # change to datetime index\n",
    "    df.date = pd.to_datetime(df['date'],format=fmat)\n",
    "    df.set_index('date', inplace=True)\n",
    "    return df"
   ]
  },
  {
   "cell_type": "code",
   "execution_count": 5,
   "metadata": {},
   "outputs": [],
   "source": [
    "def data_frame_name(dic):\n",
    "    '''convert dictionary data into dataframe'''\n",
    "    # if statement to convert date\n",
    "    if dic['series'][0]['f'] == 'M':\n",
    "        #201002\n",
    "        fmat = '%Y%m'\n",
    "    else:\n",
    "        fmat= None\n",
    "    # select data\n",
    "    name =  dic['series'][0]['series_id']\n",
    "    plot_data = dic['series'][0]['data']\n",
    "    # create dataframe\n",
    "    df = pd.DataFrame.from_dict(plot_data)\n",
    "    # rename cols\n",
    "    df.rename(columns={0: 'date',1: name,}, \n",
    "              inplace=True)\n",
    "    # change to datetime index\n",
    "    df.date = pd.to_datetime(df['date'],format=fmat)\n",
    "    df.set_index('date', inplace=True)\n",
    "    return df"
   ]
  },
  {
   "cell_type": "markdown",
   "metadata": {},
   "source": [
    "## Create function that combines\n",
    "### `api_series` & `data_frame`\n",
    "### for clean display"
   ]
  },
  {
   "cell_type": "code",
   "execution_count": 6,
   "metadata": {},
   "outputs": [],
   "source": [
    "def api_series_to_df(series_id,api_key):\n",
    "    '''combine two function to return\n",
    "    data from api call'''\n",
    "    json_data = api_series(series_id,api_key)\n",
    "    name = json_data['series'][0]['name']\n",
    "    df = data_frame_name(json_data)\n",
    "    return df"
   ]
  },
  {
   "cell_type": "code",
   "execution_count": null,
   "metadata": {},
   "outputs": [],
   "source": []
  },
  {
   "cell_type": "markdown",
   "metadata": {},
   "source": [
    "## Test api_categories"
   ]
  },
  {
   "cell_type": "code",
   "execution_count": 7,
   "metadata": {},
   "outputs": [],
   "source": [
    "category_id = '371'\n",
    "cat_01 = api_category(category_id,API_KEY)"
   ]
  },
  {
   "cell_type": "code",
   "execution_count": 8,
   "metadata": {},
   "outputs": [
    {
     "data": {
      "text/plain": [
       "{'category_id': '371',\n",
       " 'parent_category_id': None,\n",
       " 'name': 'EIA Data Sets',\n",
       " 'notes': '',\n",
       " 'childcategories': [{'category_id': 0, 'name': 'Electricity'},\n",
       "  {'category_id': 40203, 'name': 'State Energy Data System (SEDS)'},\n",
       "  {'category_id': 711224, 'name': 'Total Energy'},\n",
       "  {'category_id': 714755, 'name': 'Petroleum'},\n",
       "  {'category_id': 714804, 'name': 'Natural Gas'},\n",
       "  {'category_id': 717234, 'name': 'Coal'},\n",
       "  {'category_id': 829714, 'name': 'Short-Term Energy Outlook'},\n",
       "  {'category_id': 964164, 'name': 'Annual Energy Outlook'},\n",
       "  {'category_id': 1292190, 'name': 'Crude Oil Imports'},\n",
       "  {'category_id': 2123635, 'name': 'U.S. Electric System Operating Data'},\n",
       "  {'category_id': 2134384, 'name': 'International Energy Data'},\n",
       "  {'category_id': 2251604, 'name': 'CO2 Emissions'},\n",
       "  {'category_id': 2631064, 'name': 'International Energy Outlook'},\n",
       "  {'category_id': 2889994, 'name': 'U.S. Nuclear Outages'}],\n",
       " 'childseries': []}"
      ]
     },
     "execution_count": 8,
     "metadata": {},
     "output_type": "execute_result"
    }
   ],
   "source": [
    " cat_01['category']"
   ]
  },
  {
   "cell_type": "code",
   "execution_count": 9,
   "metadata": {},
   "outputs": [
    {
     "name": "stdout",
     "output_type": "stream",
     "text": [
      "category_id\n",
      "parent_category_id\n",
      "name\n",
      "notes\n",
      "childcategories\n",
      "childseries\n"
     ]
    }
   ],
   "source": [
    "for key in cat_01['category'].keys():\n",
    "    print(key)"
   ]
  },
  {
   "cell_type": "code",
   "execution_count": 10,
   "metadata": {},
   "outputs": [
    {
     "data": {
      "text/plain": [
       "'EIA Data Sets'"
      ]
     },
     "execution_count": 10,
     "metadata": {},
     "output_type": "execute_result"
    }
   ],
   "source": [
    "cat_01['category']['name']"
   ]
  },
  {
   "cell_type": "code",
   "execution_count": 11,
   "metadata": {},
   "outputs": [
    {
     "data": {
      "text/plain": [
       "[{'category_id': 0, 'name': 'Electricity'},\n",
       " {'category_id': 40203, 'name': 'State Energy Data System (SEDS)'},\n",
       " {'category_id': 711224, 'name': 'Total Energy'},\n",
       " {'category_id': 714755, 'name': 'Petroleum'},\n",
       " {'category_id': 714804, 'name': 'Natural Gas'},\n",
       " {'category_id': 717234, 'name': 'Coal'},\n",
       " {'category_id': 829714, 'name': 'Short-Term Energy Outlook'},\n",
       " {'category_id': 964164, 'name': 'Annual Energy Outlook'},\n",
       " {'category_id': 1292190, 'name': 'Crude Oil Imports'},\n",
       " {'category_id': 2123635, 'name': 'U.S. Electric System Operating Data'},\n",
       " {'category_id': 2134384, 'name': 'International Energy Data'},\n",
       " {'category_id': 2251604, 'name': 'CO2 Emissions'},\n",
       " {'category_id': 2631064, 'name': 'International Energy Outlook'},\n",
       " {'category_id': 2889994, 'name': 'U.S. Nuclear Outages'}]"
      ]
     },
     "execution_count": 11,
     "metadata": {},
     "output_type": "execute_result"
    }
   ],
   "source": [
    "cat_01['category']['childcategories']"
   ]
  },
  {
   "cell_type": "code",
   "execution_count": 12,
   "metadata": {},
   "outputs": [
    {
     "data": {
      "text/html": [
       "<div>\n",
       "<style scoped>\n",
       "    .dataframe tbody tr th:only-of-type {\n",
       "        vertical-align: middle;\n",
       "    }\n",
       "\n",
       "    .dataframe tbody tr th {\n",
       "        vertical-align: top;\n",
       "    }\n",
       "\n",
       "    .dataframe thead th {\n",
       "        text-align: right;\n",
       "    }\n",
       "</style>\n",
       "<table border=\"1\" class=\"dataframe\">\n",
       "  <thead>\n",
       "    <tr style=\"text-align: right;\">\n",
       "      <th></th>\n",
       "      <th>category_id</th>\n",
       "      <th>name</th>\n",
       "    </tr>\n",
       "  </thead>\n",
       "  <tbody>\n",
       "    <tr>\n",
       "      <th>0</th>\n",
       "      <td>0</td>\n",
       "      <td>Electricity</td>\n",
       "    </tr>\n",
       "    <tr>\n",
       "      <th>1</th>\n",
       "      <td>40203</td>\n",
       "      <td>State Energy Data System (SEDS)</td>\n",
       "    </tr>\n",
       "    <tr>\n",
       "      <th>2</th>\n",
       "      <td>711224</td>\n",
       "      <td>Total Energy</td>\n",
       "    </tr>\n",
       "    <tr>\n",
       "      <th>3</th>\n",
       "      <td>714755</td>\n",
       "      <td>Petroleum</td>\n",
       "    </tr>\n",
       "    <tr>\n",
       "      <th>4</th>\n",
       "      <td>714804</td>\n",
       "      <td>Natural Gas</td>\n",
       "    </tr>\n",
       "    <tr>\n",
       "      <th>5</th>\n",
       "      <td>717234</td>\n",
       "      <td>Coal</td>\n",
       "    </tr>\n",
       "    <tr>\n",
       "      <th>6</th>\n",
       "      <td>829714</td>\n",
       "      <td>Short-Term Energy Outlook</td>\n",
       "    </tr>\n",
       "    <tr>\n",
       "      <th>7</th>\n",
       "      <td>964164</td>\n",
       "      <td>Annual Energy Outlook</td>\n",
       "    </tr>\n",
       "    <tr>\n",
       "      <th>8</th>\n",
       "      <td>1292190</td>\n",
       "      <td>Crude Oil Imports</td>\n",
       "    </tr>\n",
       "    <tr>\n",
       "      <th>9</th>\n",
       "      <td>2123635</td>\n",
       "      <td>U.S. Electric System Operating Data</td>\n",
       "    </tr>\n",
       "    <tr>\n",
       "      <th>10</th>\n",
       "      <td>2134384</td>\n",
       "      <td>International Energy Data</td>\n",
       "    </tr>\n",
       "    <tr>\n",
       "      <th>11</th>\n",
       "      <td>2251604</td>\n",
       "      <td>CO2 Emissions</td>\n",
       "    </tr>\n",
       "    <tr>\n",
       "      <th>12</th>\n",
       "      <td>2631064</td>\n",
       "      <td>International Energy Outlook</td>\n",
       "    </tr>\n",
       "    <tr>\n",
       "      <th>13</th>\n",
       "      <td>2889994</td>\n",
       "      <td>U.S. Nuclear Outages</td>\n",
       "    </tr>\n",
       "  </tbody>\n",
       "</table>\n",
       "</div>"
      ],
      "text/plain": [
       "    category_id                                 name\n",
       "0             0                          Electricity\n",
       "1         40203      State Energy Data System (SEDS)\n",
       "2        711224                         Total Energy\n",
       "3        714755                            Petroleum\n",
       "4        714804                          Natural Gas\n",
       "5        717234                                 Coal\n",
       "6        829714            Short-Term Energy Outlook\n",
       "7        964164                Annual Energy Outlook\n",
       "8       1292190                    Crude Oil Imports\n",
       "9       2123635  U.S. Electric System Operating Data\n",
       "10      2134384            International Energy Data\n",
       "11      2251604                        CO2 Emissions\n",
       "12      2631064         International Energy Outlook\n",
       "13      2889994                 U.S. Nuclear Outages"
      ]
     },
     "execution_count": 12,
     "metadata": {},
     "output_type": "execute_result"
    }
   ],
   "source": [
    "EIA_Data_Sets = pd.DataFrame.from_dict(cat_01['category']['childcategories'])\n",
    "EIA_Data_Sets"
   ]
  },
  {
   "cell_type": "markdown",
   "metadata": {},
   "source": [
    "## test category\n",
    "## `CO2 Emissions`"
   ]
  },
  {
   "cell_type": "code",
   "execution_count": 13,
   "metadata": {},
   "outputs": [],
   "source": [
    "category_id = '2251604' # CO2 Emissions\n",
    "cat_02 = api_category(category_id,API_KEY)"
   ]
  },
  {
   "cell_type": "code",
   "execution_count": 14,
   "metadata": {},
   "outputs": [
    {
     "data": {
      "text/plain": [
       "{'request': {'category_id': 2251604, 'command': 'category'},\n",
       " 'category': {'category_id': '2251604',\n",
       "  'parent_category_id': '371',\n",
       "  'name': 'CO2 Emissions',\n",
       "  'notes': '',\n",
       "  'childcategories': [{'category_id': 2251605, 'name': 'by Fuel'},\n",
       "   {'category_id': 2251670, 'name': 'by State'}],\n",
       "  'childseries': []}}"
      ]
     },
     "execution_count": 14,
     "metadata": {},
     "output_type": "execute_result"
    }
   ],
   "source": [
    "cat_02"
   ]
  },
  {
   "cell_type": "code",
   "execution_count": 15,
   "metadata": {},
   "outputs": [
    {
     "data": {
      "text/plain": [
       "dict_keys(['request', 'category'])"
      ]
     },
     "execution_count": 15,
     "metadata": {},
     "output_type": "execute_result"
    }
   ],
   "source": [
    "cat_02.keys()"
   ]
  },
  {
   "cell_type": "code",
   "execution_count": 16,
   "metadata": {},
   "outputs": [
    {
     "data": {
      "text/plain": [
       "{'category_id': '2251604',\n",
       " 'parent_category_id': '371',\n",
       " 'name': 'CO2 Emissions',\n",
       " 'notes': '',\n",
       " 'childcategories': [{'category_id': 2251605, 'name': 'by Fuel'},\n",
       "  {'category_id': 2251670, 'name': 'by State'}],\n",
       " 'childseries': []}"
      ]
     },
     "execution_count": 16,
     "metadata": {},
     "output_type": "execute_result"
    }
   ],
   "source": [
    "cat_02['category']"
   ]
  },
  {
   "cell_type": "code",
   "execution_count": 17,
   "metadata": {},
   "outputs": [
    {
     "data": {
      "text/plain": [
       "[{'category_id': 2251605, 'name': 'by Fuel'},\n",
       " {'category_id': 2251670, 'name': 'by State'}]"
      ]
     },
     "execution_count": 17,
     "metadata": {},
     "output_type": "execute_result"
    }
   ],
   "source": [
    "cat_02['category']['childcategories']"
   ]
  },
  {
   "cell_type": "markdown",
   "metadata": {},
   "source": [
    "# EIA Data Sets > CO2 Emissions > by State\n",
    "`http://api.eia.gov/category/?api_key=YOUR_API_KEY_HERE&category_id=2251670`"
   ]
  },
  {
   "cell_type": "code",
   "execution_count": 18,
   "metadata": {},
   "outputs": [],
   "source": [
    "category_id = '2251670' # CO2 Emissions by state\n",
    "cat_03 = api_category(category_id,API_KEY)"
   ]
  },
  {
   "cell_type": "code",
   "execution_count": 19,
   "metadata": {},
   "outputs": [
    {
     "data": {
      "text/plain": [
       "{'category_id': '2251670',\n",
       " 'parent_category_id': '2251604',\n",
       " 'name': 'by State',\n",
       " 'notes': '',\n",
       " 'childcategories': [{'category_id': 2251671, 'name': 'Maryland'},\n",
       "  {'category_id': 2251672, 'name': 'Alabama'},\n",
       "  {'category_id': 2251673, 'name': 'Alaska'},\n",
       "  {'category_id': 2251674, 'name': 'Arizona'},\n",
       "  {'category_id': 2251675, 'name': 'Arkansas'},\n",
       "  {'category_id': 2251676, 'name': 'California'},\n",
       "  {'category_id': 2251677, 'name': 'Colorado'},\n",
       "  {'category_id': 2251678, 'name': 'Connecticut'},\n",
       "  {'category_id': 2251679, 'name': 'Delaware'},\n",
       "  {'category_id': 2251680, 'name': 'District of Columbia'},\n",
       "  {'category_id': 2251681, 'name': 'Florida'},\n",
       "  {'category_id': 2251682, 'name': 'Georgia'},\n",
       "  {'category_id': 2251683, 'name': 'Hawaii'},\n",
       "  {'category_id': 2251684, 'name': 'Idaho'},\n",
       "  {'category_id': 2251685, 'name': 'Illinois'},\n",
       "  {'category_id': 2251686, 'name': 'Indiana'},\n",
       "  {'category_id': 2251687, 'name': 'Iowa'},\n",
       "  {'category_id': 2251688, 'name': 'Kansas'},\n",
       "  {'category_id': 2251689, 'name': 'Kentucky'},\n",
       "  {'category_id': 2251690, 'name': 'Louisiana'},\n",
       "  {'category_id': 2251691, 'name': 'Maine'},\n",
       "  {'category_id': 2251692, 'name': 'Massachusetts'},\n",
       "  {'category_id': 2251693, 'name': 'Michigan'},\n",
       "  {'category_id': 2251694, 'name': 'Minnesota'},\n",
       "  {'category_id': 2251695, 'name': 'Mississippi'},\n",
       "  {'category_id': 2251696, 'name': 'Missouri'},\n",
       "  {'category_id': 2251697, 'name': 'Montana'},\n",
       "  {'category_id': 2251698, 'name': 'Nebraska'},\n",
       "  {'category_id': 2251699, 'name': 'Nevada'},\n",
       "  {'category_id': 2251700, 'name': 'New Hampshire'},\n",
       "  {'category_id': 2251701, 'name': 'New Jersey'},\n",
       "  {'category_id': 2251702, 'name': 'New Mexico'},\n",
       "  {'category_id': 2251703, 'name': 'New York'},\n",
       "  {'category_id': 2251704, 'name': 'North Carolina'},\n",
       "  {'category_id': 2251705, 'name': 'North Dakota'},\n",
       "  {'category_id': 2251706, 'name': 'Ohio'},\n",
       "  {'category_id': 2251707, 'name': 'Oklahoma'},\n",
       "  {'category_id': 2251708, 'name': 'Oregon'},\n",
       "  {'category_id': 2251709, 'name': 'Pennsylvania'},\n",
       "  {'category_id': 2251710, 'name': 'Rhode Island'},\n",
       "  {'category_id': 2251711, 'name': 'South Carolina'},\n",
       "  {'category_id': 2251712, 'name': 'South Dakota'},\n",
       "  {'category_id': 2251713, 'name': 'Tennessee'},\n",
       "  {'category_id': 2251714, 'name': 'Texas'},\n",
       "  {'category_id': 2251715, 'name': 'United States'},\n",
       "  {'category_id': 2251716, 'name': 'Utah'},\n",
       "  {'category_id': 2251717, 'name': 'Vermont'},\n",
       "  {'category_id': 2251718, 'name': 'Virginia'},\n",
       "  {'category_id': 2251719, 'name': 'Washington'},\n",
       "  {'category_id': 2251720, 'name': 'West Virginia'},\n",
       "  {'category_id': 2251721, 'name': 'Wisconsin'},\n",
       "  {'category_id': 2251722, 'name': 'Wyoming'}],\n",
       " 'childseries': []}"
      ]
     },
     "execution_count": 19,
     "metadata": {},
     "output_type": "execute_result"
    }
   ],
   "source": [
    "cat_03['category']"
   ]
  },
  {
   "cell_type": "code",
   "execution_count": 20,
   "metadata": {},
   "outputs": [
    {
     "data": {
      "text/html": [
       "<div>\n",
       "<style scoped>\n",
       "    .dataframe tbody tr th:only-of-type {\n",
       "        vertical-align: middle;\n",
       "    }\n",
       "\n",
       "    .dataframe tbody tr th {\n",
       "        vertical-align: top;\n",
       "    }\n",
       "\n",
       "    .dataframe thead th {\n",
       "        text-align: right;\n",
       "    }\n",
       "</style>\n",
       "<table border=\"1\" class=\"dataframe\">\n",
       "  <thead>\n",
       "    <tr style=\"text-align: right;\">\n",
       "      <th></th>\n",
       "      <th>category_id</th>\n",
       "      <th>name</th>\n",
       "    </tr>\n",
       "  </thead>\n",
       "  <tbody>\n",
       "    <tr>\n",
       "      <th>0</th>\n",
       "      <td>2251671</td>\n",
       "      <td>Maryland</td>\n",
       "    </tr>\n",
       "    <tr>\n",
       "      <th>1</th>\n",
       "      <td>2251672</td>\n",
       "      <td>Alabama</td>\n",
       "    </tr>\n",
       "    <tr>\n",
       "      <th>2</th>\n",
       "      <td>2251673</td>\n",
       "      <td>Alaska</td>\n",
       "    </tr>\n",
       "    <tr>\n",
       "      <th>3</th>\n",
       "      <td>2251674</td>\n",
       "      <td>Arizona</td>\n",
       "    </tr>\n",
       "    <tr>\n",
       "      <th>4</th>\n",
       "      <td>2251675</td>\n",
       "      <td>Arkansas</td>\n",
       "    </tr>\n",
       "    <tr>\n",
       "      <th>5</th>\n",
       "      <td>2251676</td>\n",
       "      <td>California</td>\n",
       "    </tr>\n",
       "    <tr>\n",
       "      <th>6</th>\n",
       "      <td>2251677</td>\n",
       "      <td>Colorado</td>\n",
       "    </tr>\n",
       "    <tr>\n",
       "      <th>7</th>\n",
       "      <td>2251678</td>\n",
       "      <td>Connecticut</td>\n",
       "    </tr>\n",
       "    <tr>\n",
       "      <th>8</th>\n",
       "      <td>2251679</td>\n",
       "      <td>Delaware</td>\n",
       "    </tr>\n",
       "    <tr>\n",
       "      <th>9</th>\n",
       "      <td>2251680</td>\n",
       "      <td>District of Columbia</td>\n",
       "    </tr>\n",
       "    <tr>\n",
       "      <th>10</th>\n",
       "      <td>2251681</td>\n",
       "      <td>Florida</td>\n",
       "    </tr>\n",
       "    <tr>\n",
       "      <th>11</th>\n",
       "      <td>2251682</td>\n",
       "      <td>Georgia</td>\n",
       "    </tr>\n",
       "    <tr>\n",
       "      <th>12</th>\n",
       "      <td>2251683</td>\n",
       "      <td>Hawaii</td>\n",
       "    </tr>\n",
       "    <tr>\n",
       "      <th>13</th>\n",
       "      <td>2251684</td>\n",
       "      <td>Idaho</td>\n",
       "    </tr>\n",
       "    <tr>\n",
       "      <th>14</th>\n",
       "      <td>2251685</td>\n",
       "      <td>Illinois</td>\n",
       "    </tr>\n",
       "    <tr>\n",
       "      <th>15</th>\n",
       "      <td>2251686</td>\n",
       "      <td>Indiana</td>\n",
       "    </tr>\n",
       "    <tr>\n",
       "      <th>16</th>\n",
       "      <td>2251687</td>\n",
       "      <td>Iowa</td>\n",
       "    </tr>\n",
       "    <tr>\n",
       "      <th>17</th>\n",
       "      <td>2251688</td>\n",
       "      <td>Kansas</td>\n",
       "    </tr>\n",
       "    <tr>\n",
       "      <th>18</th>\n",
       "      <td>2251689</td>\n",
       "      <td>Kentucky</td>\n",
       "    </tr>\n",
       "    <tr>\n",
       "      <th>19</th>\n",
       "      <td>2251690</td>\n",
       "      <td>Louisiana</td>\n",
       "    </tr>\n",
       "    <tr>\n",
       "      <th>20</th>\n",
       "      <td>2251691</td>\n",
       "      <td>Maine</td>\n",
       "    </tr>\n",
       "    <tr>\n",
       "      <th>21</th>\n",
       "      <td>2251692</td>\n",
       "      <td>Massachusetts</td>\n",
       "    </tr>\n",
       "    <tr>\n",
       "      <th>22</th>\n",
       "      <td>2251693</td>\n",
       "      <td>Michigan</td>\n",
       "    </tr>\n",
       "    <tr>\n",
       "      <th>23</th>\n",
       "      <td>2251694</td>\n",
       "      <td>Minnesota</td>\n",
       "    </tr>\n",
       "    <tr>\n",
       "      <th>24</th>\n",
       "      <td>2251695</td>\n",
       "      <td>Mississippi</td>\n",
       "    </tr>\n",
       "    <tr>\n",
       "      <th>25</th>\n",
       "      <td>2251696</td>\n",
       "      <td>Missouri</td>\n",
       "    </tr>\n",
       "    <tr>\n",
       "      <th>26</th>\n",
       "      <td>2251697</td>\n",
       "      <td>Montana</td>\n",
       "    </tr>\n",
       "    <tr>\n",
       "      <th>27</th>\n",
       "      <td>2251698</td>\n",
       "      <td>Nebraska</td>\n",
       "    </tr>\n",
       "    <tr>\n",
       "      <th>28</th>\n",
       "      <td>2251699</td>\n",
       "      <td>Nevada</td>\n",
       "    </tr>\n",
       "    <tr>\n",
       "      <th>29</th>\n",
       "      <td>2251700</td>\n",
       "      <td>New Hampshire</td>\n",
       "    </tr>\n",
       "    <tr>\n",
       "      <th>30</th>\n",
       "      <td>2251701</td>\n",
       "      <td>New Jersey</td>\n",
       "    </tr>\n",
       "    <tr>\n",
       "      <th>31</th>\n",
       "      <td>2251702</td>\n",
       "      <td>New Mexico</td>\n",
       "    </tr>\n",
       "    <tr>\n",
       "      <th>32</th>\n",
       "      <td>2251703</td>\n",
       "      <td>New York</td>\n",
       "    </tr>\n",
       "    <tr>\n",
       "      <th>33</th>\n",
       "      <td>2251704</td>\n",
       "      <td>North Carolina</td>\n",
       "    </tr>\n",
       "    <tr>\n",
       "      <th>34</th>\n",
       "      <td>2251705</td>\n",
       "      <td>North Dakota</td>\n",
       "    </tr>\n",
       "    <tr>\n",
       "      <th>35</th>\n",
       "      <td>2251706</td>\n",
       "      <td>Ohio</td>\n",
       "    </tr>\n",
       "    <tr>\n",
       "      <th>36</th>\n",
       "      <td>2251707</td>\n",
       "      <td>Oklahoma</td>\n",
       "    </tr>\n",
       "    <tr>\n",
       "      <th>37</th>\n",
       "      <td>2251708</td>\n",
       "      <td>Oregon</td>\n",
       "    </tr>\n",
       "    <tr>\n",
       "      <th>38</th>\n",
       "      <td>2251709</td>\n",
       "      <td>Pennsylvania</td>\n",
       "    </tr>\n",
       "    <tr>\n",
       "      <th>39</th>\n",
       "      <td>2251710</td>\n",
       "      <td>Rhode Island</td>\n",
       "    </tr>\n",
       "    <tr>\n",
       "      <th>40</th>\n",
       "      <td>2251711</td>\n",
       "      <td>South Carolina</td>\n",
       "    </tr>\n",
       "    <tr>\n",
       "      <th>41</th>\n",
       "      <td>2251712</td>\n",
       "      <td>South Dakota</td>\n",
       "    </tr>\n",
       "    <tr>\n",
       "      <th>42</th>\n",
       "      <td>2251713</td>\n",
       "      <td>Tennessee</td>\n",
       "    </tr>\n",
       "    <tr>\n",
       "      <th>43</th>\n",
       "      <td>2251714</td>\n",
       "      <td>Texas</td>\n",
       "    </tr>\n",
       "    <tr>\n",
       "      <th>44</th>\n",
       "      <td>2251715</td>\n",
       "      <td>United States</td>\n",
       "    </tr>\n",
       "    <tr>\n",
       "      <th>45</th>\n",
       "      <td>2251716</td>\n",
       "      <td>Utah</td>\n",
       "    </tr>\n",
       "    <tr>\n",
       "      <th>46</th>\n",
       "      <td>2251717</td>\n",
       "      <td>Vermont</td>\n",
       "    </tr>\n",
       "    <tr>\n",
       "      <th>47</th>\n",
       "      <td>2251718</td>\n",
       "      <td>Virginia</td>\n",
       "    </tr>\n",
       "    <tr>\n",
       "      <th>48</th>\n",
       "      <td>2251719</td>\n",
       "      <td>Washington</td>\n",
       "    </tr>\n",
       "    <tr>\n",
       "      <th>49</th>\n",
       "      <td>2251720</td>\n",
       "      <td>West Virginia</td>\n",
       "    </tr>\n",
       "    <tr>\n",
       "      <th>50</th>\n",
       "      <td>2251721</td>\n",
       "      <td>Wisconsin</td>\n",
       "    </tr>\n",
       "    <tr>\n",
       "      <th>51</th>\n",
       "      <td>2251722</td>\n",
       "      <td>Wyoming</td>\n",
       "    </tr>\n",
       "  </tbody>\n",
       "</table>\n",
       "</div>"
      ],
      "text/plain": [
       "    category_id                  name\n",
       "0       2251671              Maryland\n",
       "1       2251672               Alabama\n",
       "2       2251673                Alaska\n",
       "3       2251674               Arizona\n",
       "4       2251675              Arkansas\n",
       "5       2251676            California\n",
       "6       2251677              Colorado\n",
       "7       2251678           Connecticut\n",
       "8       2251679              Delaware\n",
       "9       2251680  District of Columbia\n",
       "10      2251681               Florida\n",
       "11      2251682               Georgia\n",
       "12      2251683                Hawaii\n",
       "13      2251684                 Idaho\n",
       "14      2251685              Illinois\n",
       "15      2251686               Indiana\n",
       "16      2251687                  Iowa\n",
       "17      2251688                Kansas\n",
       "18      2251689              Kentucky\n",
       "19      2251690             Louisiana\n",
       "20      2251691                 Maine\n",
       "21      2251692         Massachusetts\n",
       "22      2251693              Michigan\n",
       "23      2251694             Minnesota\n",
       "24      2251695           Mississippi\n",
       "25      2251696              Missouri\n",
       "26      2251697               Montana\n",
       "27      2251698              Nebraska\n",
       "28      2251699                Nevada\n",
       "29      2251700         New Hampshire\n",
       "30      2251701            New Jersey\n",
       "31      2251702            New Mexico\n",
       "32      2251703              New York\n",
       "33      2251704        North Carolina\n",
       "34      2251705          North Dakota\n",
       "35      2251706                  Ohio\n",
       "36      2251707              Oklahoma\n",
       "37      2251708                Oregon\n",
       "38      2251709          Pennsylvania\n",
       "39      2251710          Rhode Island\n",
       "40      2251711        South Carolina\n",
       "41      2251712          South Dakota\n",
       "42      2251713             Tennessee\n",
       "43      2251714                 Texas\n",
       "44      2251715         United States\n",
       "45      2251716                  Utah\n",
       "46      2251717               Vermont\n",
       "47      2251718              Virginia\n",
       "48      2251719            Washington\n",
       "49      2251720         West Virginia\n",
       "50      2251721             Wisconsin\n",
       "51      2251722               Wyoming"
      ]
     },
     "execution_count": 20,
     "metadata": {},
     "output_type": "execute_result"
    }
   ],
   "source": [
    "pd.DataFrame.from_dict(cat_03['category']['childcategories'])"
   ]
  },
  {
   "cell_type": "markdown",
   "metadata": {},
   "source": [
    "# EIA Data Sets > CO2 Emissions > by State > Texas\n",
    "`http://api.eia.gov/category/?api_key=YOUR_API_KEY_HERE&category_id=2251714`"
   ]
  },
  {
   "cell_type": "code",
   "execution_count": 21,
   "metadata": {},
   "outputs": [],
   "source": [
    "category_id = '2251714' # CO2 Emissions by state: TEXAS\n",
    "cat_04 = api_category(category_id,API_KEY)"
   ]
  },
  {
   "cell_type": "code",
   "execution_count": 22,
   "metadata": {},
   "outputs": [
    {
     "name": "stdout",
     "output_type": "stream",
     "text": [
      "category_id\n",
      "parent_category_id\n",
      "name\n",
      "notes\n",
      "childcategories\n",
      "childseries\n"
     ]
    }
   ],
   "source": [
    "for key in  cat_04['category'].keys():\n",
    "    print(key)"
   ]
  },
  {
   "cell_type": "code",
   "execution_count": 23,
   "metadata": {},
   "outputs": [
    {
     "data": {
      "text/plain": [
       "'Texas'"
      ]
     },
     "execution_count": 23,
     "metadata": {},
     "output_type": "execute_result"
    }
   ],
   "source": [
    "cat_04['category']['name']"
   ]
  },
  {
   "cell_type": "code",
   "execution_count": 24,
   "metadata": {},
   "outputs": [
    {
     "data": {
      "text/plain": [
       "[]"
      ]
     },
     "execution_count": 24,
     "metadata": {},
     "output_type": "execute_result"
    }
   ],
   "source": [
    "cat_04['category']['childcategories']"
   ]
  },
  {
   "cell_type": "code",
   "execution_count": 25,
   "metadata": {},
   "outputs": [
    {
     "data": {
      "text/plain": [
       "96"
      ]
     },
     "execution_count": 25,
     "metadata": {},
     "output_type": "execute_result"
    }
   ],
   "source": [
    "len(cat_04['category']['childseries'])"
   ]
  },
  {
   "cell_type": "code",
   "execution_count": 26,
   "metadata": {},
   "outputs": [
    {
     "data": {
      "text/html": [
       "<div>\n",
       "<style scoped>\n",
       "    .dataframe tbody tr th:only-of-type {\n",
       "        vertical-align: middle;\n",
       "    }\n",
       "\n",
       "    .dataframe tbody tr th {\n",
       "        vertical-align: top;\n",
       "    }\n",
       "\n",
       "    .dataframe thead th {\n",
       "        text-align: right;\n",
       "    }\n",
       "</style>\n",
       "<table border=\"1\" class=\"dataframe\">\n",
       "  <thead>\n",
       "    <tr style=\"text-align: right;\">\n",
       "      <th></th>\n",
       "      <th>f</th>\n",
       "      <th>name</th>\n",
       "      <th>series_id</th>\n",
       "      <th>units</th>\n",
       "      <th>updated</th>\n",
       "    </tr>\n",
       "  </thead>\n",
       "  <tbody>\n",
       "    <tr>\n",
       "      <th>0</th>\n",
       "      <td>A</td>\n",
       "      <td>Coefficient for industrial carbon dioxide emis...</td>\n",
       "      <td>EMISS.CO2-C-ARICB-TX.A</td>\n",
       "      <td>Kilograms of CO2 per million Btu</td>\n",
       "      <td>12-DEC-18 09.19.26 AM</td>\n",
       "    </tr>\n",
       "    <tr>\n",
       "      <th>1</th>\n",
       "      <td>A</td>\n",
       "      <td>Coefficient for transportation carbon dioxide ...</td>\n",
       "      <td>EMISS.CO2-C-AVACB-TX.A</td>\n",
       "      <td>Kilograms of CO2 per million Btu</td>\n",
       "      <td>12-DEC-18 09.19.26 AM</td>\n",
       "    </tr>\n",
       "    <tr>\n",
       "      <th>2</th>\n",
       "      <td>A</td>\n",
       "      <td>Coefficient for transportation carbon dioxide ...</td>\n",
       "      <td>EMISS.CO2-C-CLACB-TX.A</td>\n",
       "      <td>Kilograms of CO2 per million Btu</td>\n",
       "      <td>12-DEC-18 09.19.26 AM</td>\n",
       "    </tr>\n",
       "    <tr>\n",
       "      <th>3</th>\n",
       "      <td>A</td>\n",
       "      <td>Coefficient for commercial carbon dioxide emis...</td>\n",
       "      <td>EMISS.CO2-C-CLCCB-TX.A</td>\n",
       "      <td>Kilograms of CO2 per million Btu</td>\n",
       "      <td>12-DEC-18 09.19.26 AM</td>\n",
       "    </tr>\n",
       "    <tr>\n",
       "      <th>4</th>\n",
       "      <td>A</td>\n",
       "      <td>Coefficient for electric power carbon dioxide ...</td>\n",
       "      <td>EMISS.CO2-C-CLEIB-TX.A</td>\n",
       "      <td>Kilograms of CO2 per million Btu</td>\n",
       "      <td>12-DEC-18 09.19.26 AM</td>\n",
       "    </tr>\n",
       "  </tbody>\n",
       "</table>\n",
       "</div>"
      ],
      "text/plain": [
       "   f                                               name  \\\n",
       "0  A  Coefficient for industrial carbon dioxide emis...   \n",
       "1  A  Coefficient for transportation carbon dioxide ...   \n",
       "2  A  Coefficient for transportation carbon dioxide ...   \n",
       "3  A  Coefficient for commercial carbon dioxide emis...   \n",
       "4  A  Coefficient for electric power carbon dioxide ...   \n",
       "\n",
       "                series_id                             units  \\\n",
       "0  EMISS.CO2-C-ARICB-TX.A  Kilograms of CO2 per million Btu   \n",
       "1  EMISS.CO2-C-AVACB-TX.A  Kilograms of CO2 per million Btu   \n",
       "2  EMISS.CO2-C-CLACB-TX.A  Kilograms of CO2 per million Btu   \n",
       "3  EMISS.CO2-C-CLCCB-TX.A  Kilograms of CO2 per million Btu   \n",
       "4  EMISS.CO2-C-CLEIB-TX.A  Kilograms of CO2 per million Btu   \n",
       "\n",
       "                 updated  \n",
       "0  12-DEC-18 09.19.26 AM  \n",
       "1  12-DEC-18 09.19.26 AM  \n",
       "2  12-DEC-18 09.19.26 AM  \n",
       "3  12-DEC-18 09.19.26 AM  \n",
       "4  12-DEC-18 09.19.26 AM  "
      ]
     },
     "execution_count": 26,
     "metadata": {},
     "output_type": "execute_result"
    }
   ],
   "source": [
    "co2_tx = pd.DataFrame.from_dict(cat_04['category']['childseries'])\n",
    "co2_tx.head()"
   ]
  },
  {
   "cell_type": "markdown",
   "metadata": {},
   "source": [
    "## Lets look at residential"
   ]
  },
  {
   "cell_type": "code",
   "execution_count": 27,
   "metadata": {},
   "outputs": [
    {
     "data": {
      "text/html": [
       "<div>\n",
       "<style scoped>\n",
       "    .dataframe tbody tr th:only-of-type {\n",
       "        vertical-align: middle;\n",
       "    }\n",
       "\n",
       "    .dataframe tbody tr th {\n",
       "        vertical-align: top;\n",
       "    }\n",
       "\n",
       "    .dataframe thead th {\n",
       "        text-align: right;\n",
       "    }\n",
       "</style>\n",
       "<table border=\"1\" class=\"dataframe\">\n",
       "  <thead>\n",
       "    <tr style=\"text-align: right;\">\n",
       "      <th></th>\n",
       "      <th>f</th>\n",
       "      <th>name</th>\n",
       "      <th>series_id</th>\n",
       "      <th>units</th>\n",
       "      <th>updated</th>\n",
       "    </tr>\n",
       "  </thead>\n",
       "  <tbody>\n",
       "    <tr>\n",
       "      <th>2</th>\n",
       "      <td>A</td>\n",
       "      <td>Coefficient for transportation carbon dioxide ...</td>\n",
       "      <td>EMISS.CO2-C-CLACB-TX.A</td>\n",
       "      <td>Kilograms of CO2 per million Btu</td>\n",
       "      <td>12-DEC-18 09.19.26 AM</td>\n",
       "    </tr>\n",
       "    <tr>\n",
       "      <th>6</th>\n",
       "      <td>A</td>\n",
       "      <td>Coefficient for residential carbon dioxide emi...</td>\n",
       "      <td>EMISS.CO2-C-CLRCB-TX.A</td>\n",
       "      <td>Kilograms of CO2 per million Btu</td>\n",
       "      <td>12-DEC-18 09.19.26 AM</td>\n",
       "    </tr>\n",
       "    <tr>\n",
       "      <th>10</th>\n",
       "      <td>A</td>\n",
       "      <td>Coefficient for residential carbon dioxide emi...</td>\n",
       "      <td>EMISS.CO2-C-DFRCB-TX.A</td>\n",
       "      <td>Kilograms of CO2 per million Btu</td>\n",
       "      <td>12-DEC-18 09.19.26 AM</td>\n",
       "    </tr>\n",
       "    <tr>\n",
       "      <th>15</th>\n",
       "      <td>A</td>\n",
       "      <td>Coefficient for residential carbon dioxide emi...</td>\n",
       "      <td>EMISS.CO2-C-HLRCB-TX.A</td>\n",
       "      <td>Kilograms of CO2 per million Btu</td>\n",
       "      <td>12-DEC-18 09.19.26 AM</td>\n",
       "    </tr>\n",
       "    <tr>\n",
       "      <th>19</th>\n",
       "      <td>A</td>\n",
       "      <td>Coefficient for residential carbon dioxide emi...</td>\n",
       "      <td>EMISS.CO2-C-KSRCB-TX.A</td>\n",
       "      <td>Kilograms of CO2 per million Btu</td>\n",
       "      <td>12-DEC-18 09.19.26 AM</td>\n",
       "    </tr>\n",
       "    <tr>\n",
       "      <th>29</th>\n",
       "      <td>A</td>\n",
       "      <td>Coefficient for residential carbon dioxide emi...</td>\n",
       "      <td>EMISS.CO2-C-NNRCB-TX.A</td>\n",
       "      <td>Kilograms of CO2 per million Btu</td>\n",
       "      <td>12-DEC-18 09.19.26 AM</td>\n",
       "    </tr>\n",
       "    <tr>\n",
       "      <th>62</th>\n",
       "      <td>A</td>\n",
       "      <td>Transportation carbon dioxide emissions, resid...</td>\n",
       "      <td>EMISS.CO2-V-CLACB-TX.A</td>\n",
       "      <td>metric tons CO2</td>\n",
       "      <td>12-DEC-18 09.19.26 AM</td>\n",
       "    </tr>\n",
       "    <tr>\n",
       "      <th>66</th>\n",
       "      <td>A</td>\n",
       "      <td>Residential carbon dioxide emissions, resident...</td>\n",
       "      <td>EMISS.CO2-V-CLRCB-TX.A</td>\n",
       "      <td>metric tons CO2</td>\n",
       "      <td>12-DEC-18 09.19.26 AM</td>\n",
       "    </tr>\n",
       "  </tbody>\n",
       "</table>\n",
       "</div>"
      ],
      "text/plain": [
       "    f                                               name  \\\n",
       "2   A  Coefficient for transportation carbon dioxide ...   \n",
       "6   A  Coefficient for residential carbon dioxide emi...   \n",
       "10  A  Coefficient for residential carbon dioxide emi...   \n",
       "15  A  Coefficient for residential carbon dioxide emi...   \n",
       "19  A  Coefficient for residential carbon dioxide emi...   \n",
       "29  A  Coefficient for residential carbon dioxide emi...   \n",
       "62  A  Transportation carbon dioxide emissions, resid...   \n",
       "66  A  Residential carbon dioxide emissions, resident...   \n",
       "\n",
       "                 series_id                             units  \\\n",
       "2   EMISS.CO2-C-CLACB-TX.A  Kilograms of CO2 per million Btu   \n",
       "6   EMISS.CO2-C-CLRCB-TX.A  Kilograms of CO2 per million Btu   \n",
       "10  EMISS.CO2-C-DFRCB-TX.A  Kilograms of CO2 per million Btu   \n",
       "15  EMISS.CO2-C-HLRCB-TX.A  Kilograms of CO2 per million Btu   \n",
       "19  EMISS.CO2-C-KSRCB-TX.A  Kilograms of CO2 per million Btu   \n",
       "29  EMISS.CO2-C-NNRCB-TX.A  Kilograms of CO2 per million Btu   \n",
       "62  EMISS.CO2-V-CLACB-TX.A                   metric tons CO2   \n",
       "66  EMISS.CO2-V-CLRCB-TX.A                   metric tons CO2   \n",
       "\n",
       "                  updated  \n",
       "2   12-DEC-18 09.19.26 AM  \n",
       "6   12-DEC-18 09.19.26 AM  \n",
       "10  12-DEC-18 09.19.26 AM  \n",
       "15  12-DEC-18 09.19.26 AM  \n",
       "19  12-DEC-18 09.19.26 AM  \n",
       "29  12-DEC-18 09.19.26 AM  \n",
       "62  12-DEC-18 09.19.26 AM  \n",
       "66  12-DEC-18 09.19.26 AM  "
      ]
     },
     "execution_count": 27,
     "metadata": {},
     "output_type": "execute_result"
    }
   ],
   "source": [
    "residential = co2_tx.name.str.contains('residential')\n",
    "co2_tx_res = co2_tx[residential]\n",
    "co2_tx_res"
   ]
  },
  {
   "cell_type": "code",
   "execution_count": 33,
   "metadata": {},
   "outputs": [
    {
     "data": {
      "text/plain": [
       "['EMISS.CO2-C-CLACB-TX.A',\n",
       " 'EMISS.CO2-C-CLRCB-TX.A',\n",
       " 'EMISS.CO2-C-DFRCB-TX.A',\n",
       " 'EMISS.CO2-C-HLRCB-TX.A',\n",
       " 'EMISS.CO2-C-KSRCB-TX.A',\n",
       " 'EMISS.CO2-C-NNRCB-TX.A',\n",
       " 'EMISS.CO2-V-CLACB-TX.A',\n",
       " 'EMISS.CO2-V-CLRCB-TX.A']"
      ]
     },
     "execution_count": 33,
     "metadata": {},
     "output_type": "execute_result"
    }
   ],
   "source": [
    "co2_tx_series_id = list(co2_tx_res.series_id)\n",
    "co2_tx_series_id"
   ]
  },
  {
   "cell_type": "markdown",
   "metadata": {},
   "source": [
    "## Extract data \n",
    "\n",
    "```python\n",
    "def api_series_to_df(series_id,api_key):\n",
    "    '''combine two function to return\n",
    "    data from api call'''\n",
    "    json_data = api_series(series_id,api_key)\n",
    "    df = data_frame(json_data)\n",
    "    return df\n",
    "```"
   ]
  },
  {
   "cell_type": "code",
   "execution_count": 34,
   "metadata": {},
   "outputs": [
    {
     "ename": "ValueError",
     "evalue": "not enough values to unpack (expected 2, got 1)",
     "output_type": "error",
     "traceback": [
      "\u001b[0;31m---------------------------------------------------------------------------\u001b[0m",
      "\u001b[0;31mValueError\u001b[0m                                Traceback (most recent call last)",
      "\u001b[0;32m<ipython-input-34-4d33d72f3bc1>\u001b[0m in \u001b[0;36m<module>\u001b[0;34m\u001b[0m\n\u001b[1;32m      1\u001b[0m \u001b[0mseries_id\u001b[0m \u001b[0;34m=\u001b[0m \u001b[0mco2_tx_series_id\u001b[0m\u001b[0;34m[\u001b[0m\u001b[0;36m0\u001b[0m\u001b[0;34m]\u001b[0m\u001b[0;34m\u001b[0m\u001b[0;34m\u001b[0m\u001b[0m\n\u001b[0;32m----> 2\u001b[0;31m \u001b[0mco2_name\u001b[0m\u001b[0;34m,\u001b[0m \u001b[0mco2_tx_series_01\u001b[0m \u001b[0;34m=\u001b[0m \u001b[0mapi_series_to_df\u001b[0m\u001b[0;34m(\u001b[0m\u001b[0mseries_id\u001b[0m\u001b[0;34m,\u001b[0m\u001b[0mAPI_KEY\u001b[0m\u001b[0;34m)\u001b[0m\u001b[0;34m\u001b[0m\u001b[0;34m\u001b[0m\u001b[0m\n\u001b[0m",
      "\u001b[0;31mValueError\u001b[0m: not enough values to unpack (expected 2, got 1)"
     ]
    }
   ],
   "source": [
    "series_id = co2_tx_series_id[0]\n",
    "co2_name, co2_tx_series_01 = api_series_to_df(series_id,API_KEY)"
   ]
  },
  {
   "cell_type": "code",
   "execution_count": null,
   "metadata": {},
   "outputs": [],
   "source": [
    "co2_name"
   ]
  },
  {
   "cell_type": "code",
   "execution_count": 31,
   "metadata": {},
   "outputs": [
    {
     "ename": "NameError",
     "evalue": "name 'co2_tx_series_01' is not defined",
     "output_type": "error",
     "traceback": [
      "\u001b[0;31m---------------------------------------------------------------------------\u001b[0m",
      "\u001b[0;31mNameError\u001b[0m                                 Traceback (most recent call last)",
      "\u001b[0;32m<ipython-input-31-e477a4a554ad>\u001b[0m in \u001b[0;36m<module>\u001b[0;34m\u001b[0m\n\u001b[0;32m----> 1\u001b[0;31m \u001b[0mco2_tx_series_01\u001b[0m\u001b[0;34m.\u001b[0m\u001b[0mhead\u001b[0m\u001b[0;34m(\u001b[0m\u001b[0;34m)\u001b[0m\u001b[0;34m\u001b[0m\u001b[0;34m\u001b[0m\u001b[0m\n\u001b[0m",
      "\u001b[0;31mNameError\u001b[0m: name 'co2_tx_series_01' is not defined"
     ]
    }
   ],
   "source": [
    "co2_tx_series_01.head()"
   ]
  },
  {
   "cell_type": "code",
   "execution_count": 32,
   "metadata": {},
   "outputs": [
    {
     "ename": "NameError",
     "evalue": "name 'co2_tx_series_01' is not defined",
     "output_type": "error",
     "traceback": [
      "\u001b[0;31m---------------------------------------------------------------------------\u001b[0m",
      "\u001b[0;31mNameError\u001b[0m                                 Traceback (most recent call last)",
      "\u001b[0;32m<ipython-input-32-c70018d75634>\u001b[0m in \u001b[0;36m<module>\u001b[0;34m\u001b[0m\n\u001b[0;32m----> 1\u001b[0;31m \u001b[0mco2_tx_series_01\u001b[0m\u001b[0;34m.\u001b[0m\u001b[0mplot\u001b[0m\u001b[0;34m(\u001b[0m\u001b[0mfigsize\u001b[0m\u001b[0;34m=\u001b[0m\u001b[0;34m(\u001b[0m\u001b[0;36m10\u001b[0m\u001b[0;34m,\u001b[0m\u001b[0;36m4\u001b[0m\u001b[0;34m)\u001b[0m\u001b[0;34m)\u001b[0m\u001b[0;34m\u001b[0m\u001b[0;34m\u001b[0m\u001b[0m\n\u001b[0m\u001b[1;32m      2\u001b[0m \u001b[0mplt\u001b[0m\u001b[0;34m.\u001b[0m\u001b[0mtitle\u001b[0m\u001b[0;34m(\u001b[0m\u001b[0mco2_name\u001b[0m\u001b[0;34m)\u001b[0m\u001b[0;34m\u001b[0m\u001b[0;34m\u001b[0m\u001b[0m\n\u001b[1;32m      3\u001b[0m \u001b[0mplt\u001b[0m\u001b[0;34m.\u001b[0m\u001b[0mshow\u001b[0m\u001b[0;34m(\u001b[0m\u001b[0;34m)\u001b[0m\u001b[0;34m\u001b[0m\u001b[0;34m\u001b[0m\u001b[0m\n",
      "\u001b[0;31mNameError\u001b[0m: name 'co2_tx_series_01' is not defined"
     ]
    }
   ],
   "source": [
    "co2_tx_series_01.plot(figsize=(10,4))\n",
    "plt.title(co2_name)\n",
    "plt.show()"
   ]
  },
  {
   "cell_type": "code",
   "execution_count": 30,
   "metadata": {},
   "outputs": [
    {
     "ename": "ValueError",
     "evalue": "not enough values to unpack (expected 2, got 1)",
     "output_type": "error",
     "traceback": [
      "\u001b[0;31m---------------------------------------------------------------------------\u001b[0m",
      "\u001b[0;31mValueError\u001b[0m                                Traceback (most recent call last)",
      "\u001b[0;32m<ipython-input-30-87cdc6985b15>\u001b[0m in \u001b[0;36m<module>\u001b[0;34m\u001b[0m\n\u001b[1;32m      1\u001b[0m \u001b[0mseries_id\u001b[0m \u001b[0;34m=\u001b[0m \u001b[0mco2_tx_series_id\u001b[0m\u001b[0;34m[\u001b[0m\u001b[0;36m1\u001b[0m\u001b[0;34m]\u001b[0m\u001b[0;34m\u001b[0m\u001b[0;34m\u001b[0m\u001b[0m\n\u001b[0;32m----> 2\u001b[0;31m \u001b[0mname_02\u001b[0m\u001b[0;34m,\u001b[0m \u001b[0mco2_tx_series_02\u001b[0m \u001b[0;34m=\u001b[0m \u001b[0mapi_series_to_df\u001b[0m\u001b[0;34m(\u001b[0m\u001b[0mseries_id\u001b[0m\u001b[0;34m,\u001b[0m\u001b[0mAPI_KEY\u001b[0m\u001b[0;34m)\u001b[0m\u001b[0;34m\u001b[0m\u001b[0;34m\u001b[0m\u001b[0m\n\u001b[0m",
      "\u001b[0;31mValueError\u001b[0m: not enough values to unpack (expected 2, got 1)"
     ]
    }
   ],
   "source": [
    "series_id = co2_tx_series_id[1]\n",
    "name_02, co2_tx_series_02 = api_series_to_df(series_id,API_KEY)"
   ]
  },
  {
   "cell_type": "code",
   "execution_count": 79,
   "metadata": {},
   "outputs": [
    {
     "data": {
      "image/png": "[encoded data removed]",
      "text/plain": [
       "<Figure size 720x288 with 1 Axes>"
      ]
     },
     "metadata": {},
     "output_type": "display_data"
    }
   ],
   "source": [
    "co2_tx_series_02.plot(figsize=(10,4))\n",
    "plt.title(name_02)\n",
    "plt.show()"
   ]
  },
  {
   "cell_type": "code",
   "execution_count": 80,
   "metadata": {},
   "outputs": [
    {
     "data": {
      "image/png": "[encoded data removed]",
      "text/plain": [
       "<Figure size 720x288 with 1 Axes>"
      ]
     },
     "metadata": {},
     "output_type": "display_data"
    }
   ],
   "source": [
    "series_id = co2_tx_series_id[2]\n",
    "name, co2_tx_series = api_series_to_df(series_id,API_KEY)\n",
    "\n",
    "co2_tx_series.plot(figsize=(10,4))\n",
    "plt.title(name)\n",
    "plt.show()"
   ]
  },
  {
   "cell_type": "code",
   "execution_count": 81,
   "metadata": {},
   "outputs": [
    {
     "data": {
      "image/png": "[encoded data removed]",
      "text/plain": [
       "<Figure size 720x288 with 1 Axes>"
      ]
     },
     "metadata": {},
     "output_type": "display_data"
    }
   ],
   "source": [
    "series_id = co2_tx_series_id[3]\n",
    "name, co2_tx_series = api_series_to_df(series_id,API_KEY)\n",
    "\n",
    "co2_tx_series.plot(figsize=(10,4))\n",
    "plt.title(name)\n",
    "plt.show()"
   ]
  },
  {
   "cell_type": "code",
   "execution_count": 82,
   "metadata": {},
   "outputs": [
    {
     "data": {
      "image/png": "[encoded data removed]",
      "text/plain": [
       "<Figure size 720x288 with 1 Axes>"
      ]
     },
     "metadata": {},
     "output_type": "display_data"
    }
   ],
   "source": [
    "series_id = co2_tx_series_id[4]\n",
    "name, co2_tx_series = api_series_to_df(series_id,API_KEY)\n",
    "\n",
    "co2_tx_series.plot(figsize=(10,4))\n",
    "plt.title(name)\n",
    "plt.show()"
   ]
  },
  {
   "cell_type": "code",
   "execution_count": 83,
   "metadata": {},
   "outputs": [
    {
     "data": {
      "image/png": "[encoded data removed]",
      "text/plain": [
       "<Figure size 720x288 with 1 Axes>"
      ]
     },
     "metadata": {},
     "output_type": "display_data"
    }
   ],
   "source": [
    "series_id = co2_tx_series_id[5]\n",
    "name, co2_tx_series = api_series_to_df(series_id,API_KEY)\n",
    "\n",
    "co2_tx_series.plot(figsize=(10,4))\n",
    "plt.title(name)\n",
    "plt.show()"
   ]
  },
  {
   "cell_type": "code",
   "execution_count": 84,
   "metadata": {},
   "outputs": [
    {
     "data": {
      "image/png": "[encoded data removed]",
      "text/plain": [
       "<Figure size 720x288 with 1 Axes>"
      ]
     },
     "metadata": {},
     "output_type": "display_data"
    }
   ],
   "source": [
    "series_id = co2_tx_series_id[6]\n",
    "name, co2_tx_series = api_series_to_df(series_id,API_KEY)\n",
    "\n",
    "co2_tx_series.plot(figsize=(10,4))\n",
    "plt.title(name)\n",
    "plt.show()"
   ]
  },
  {
   "cell_type": "code",
   "execution_count": 85,
   "metadata": {},
   "outputs": [
    {
     "data": {
      "image/png": "[encoded data removed]",
      "text/plain": [
       "<Figure size 720x288 with 1 Axes>"
      ]
     },
     "metadata": {},
     "output_type": "display_data"
    }
   ],
   "source": [
    "series_id = co2_tx_series_id[7]\n",
    "name, co2_tx_series = api_series_to_df(series_id,API_KEY)\n",
    "\n",
    "co2_tx_series.plot(figsize=(10,4))\n",
    "plt.title(name)\n",
    "plt.show()"
   ]
  },
  {
   "cell_type": "code",
   "execution_count": null,
   "metadata": {},
   "outputs": [],
   "source": []
  },
  {
   "cell_type": "code",
   "execution_count": 87,
   "metadata": {},
   "outputs": [
    {
     "data": {
      "text/plain": [
       "['EMISS.CO2-C-CLACB-TX.A',\n",
       " 'EMISS.CO2-C-CLRCB-TX.A',\n",
       " 'EMISS.CO2-C-DFRCB-TX.A',\n",
       " 'EMISS.CO2-C-HLRCB-TX.A',\n",
       " 'EMISS.CO2-C-KSRCB-TX.A',\n",
       " 'EMISS.CO2-C-NNRCB-TX.A',\n",
       " 'EMISS.CO2-V-CLACB-TX.A',\n",
       " 'EMISS.CO2-V-CLRCB-TX.A']"
      ]
     },
     "execution_count": 87,
     "metadata": {},
     "output_type": "execute_result"
    }
   ],
   "source": [
    "co2_tx_series_id"
   ]
  },
  {
   "cell_type": "markdown",
   "metadata": {},
   "source": [
    "## Create a function\n",
    "- input list of series_id\n",
    "- returns dataframe with data\n",
    "\n",
    "\n",
    "```python\n",
    "def api_series(series_id,api_key):\n",
    "    '''calls api returns json data'''\n",
    "    url = 'http://api.eia.gov/series/'\n",
    "    payload = {'api_key':api_key,\n",
    "               'series_id':series_id}\n",
    "    r = requests.get(url, params=payload)\n",
    "    return r.json()\n",
    "\n",
    "\n",
    "def data_frame(dic):\n",
    "    '''convert dictionary data into dataframe'''\n",
    "    # if statement to convert date\n",
    "    if dic['series'][0]['f'] == 'M':\n",
    "        #201002\n",
    "        fmat = '%Y%m'\n",
    "    else:\n",
    "        fmat= None\n",
    "    # select data\n",
    "    plot_data = dic['series'][0]['data']\n",
    "    # create dataframe\n",
    "    df = pd.DataFrame.from_dict(plot_data)\n",
    "    # rename cols\n",
    "    df.rename(columns={0: 'date',1: 'value',}, \n",
    "              inplace=True)\n",
    "    # change to datetime index\n",
    "    df.date = pd.to_datetime(df['date'],format=fmat)\n",
    "    df.set_index('date', inplace=True)\n",
    "    return df\n",
    "\n",
    "\n",
    "def api_series_to_df(series_id,api_key):\n",
    "    '''combine two function to return\n",
    "    data from api call'''\n",
    "    json_data = api_series(series_id,api_key)\n",
    "    name = json_data['series'][0]['name']\n",
    "    df = data_frame(json_data)\n",
    "    return name,df\n",
    "\n",
    "\n",
    "```"
   ]
  },
  {
   "cell_type": "code",
   "execution_count": 98,
   "metadata": {},
   "outputs": [
    {
     "name": "stdout",
     "output_type": "stream",
     "text": [
      "EMISS.CO2-C-CLACB-TX.A\n",
      "EMISS.CO2-C-CLRCB-TX.A\n",
      "EMISS.CO2-C-DFRCB-TX.A\n",
      "EMISS.CO2-C-HLRCB-TX.A\n",
      "EMISS.CO2-C-KSRCB-TX.A\n",
      "EMISS.CO2-C-NNRCB-TX.A\n",
      "EMISS.CO2-V-CLACB-TX.A\n",
      "EMISS.CO2-V-CLRCB-TX.A\n"
     ]
    }
   ],
   "source": [
    "for i in co2_tx_series_id:\n",
    "    print(i)"
   ]
  },
  {
   "cell_type": "code",
   "execution_count": 97,
   "metadata": {},
   "outputs": [
    {
     "name": "stdout",
     "output_type": "stream",
     "text": [
      "EMISS.CO2-C-CLACB-TX.A\n",
      "EMISS.CO2-C-CLRCB-TX.A\n",
      "EMISS.CO2-C-DFRCB-TX.A\n",
      "EMISS.CO2-C-HLRCB-TX.A\n",
      "EMISS.CO2-C-KSRCB-TX.A\n",
      "EMISS.CO2-C-NNRCB-TX.A\n",
      "EMISS.CO2-V-CLACB-TX.A\n",
      "EMISS.CO2-V-CLRCB-TX.A\n"
     ]
    }
   ],
   "source": [
    "for i in range(len(co2_tx_series_id)):\n",
    "    print(co2_tx_series_id[i])"
   ]
  },
  {
   "cell_type": "code",
   "execution_count": 121,
   "metadata": {},
   "outputs": [],
   "source": [
    "ddf = {}\n",
    "for i in co2_tx_series_id:\n",
    "    json_data = api_series(i,API_KEY)\n",
    "    name = json_data['series'][0]['series_id']\n",
    "    frame_data = data_frame(json_data)\n",
    "    ddf[name] = frame_data"
   ]
  },
  {
   "cell_type": "code",
   "execution_count": 122,
   "metadata": {},
   "outputs": [
    {
     "name": "stdout",
     "output_type": "stream",
     "text": [
      "EMISS.CO2-C-CLACB-TX.A\n",
      "EMISS.CO2-C-CLRCB-TX.A\n",
      "EMISS.CO2-C-DFRCB-TX.A\n",
      "EMISS.CO2-C-HLRCB-TX.A\n",
      "EMISS.CO2-C-KSRCB-TX.A\n",
      "EMISS.CO2-C-NNRCB-TX.A\n",
      "EMISS.CO2-V-CLACB-TX.A\n",
      "EMISS.CO2-V-CLRCB-TX.A\n"
     ]
    }
   ],
   "source": [
    "for i in ddf.keys():\n",
    "    print(i)"
   ]
  },
  {
   "cell_type": "code",
   "execution_count": 124,
   "metadata": {},
   "outputs": [
    {
     "data": {
      "text/html": [
       "<div>\n",
       "<style scoped>\n",
       "    .dataframe tbody tr th:only-of-type {\n",
       "        vertical-align: middle;\n",
       "    }\n",
       "\n",
       "    .dataframe tbody tr th {\n",
       "        vertical-align: top;\n",
       "    }\n",
       "\n",
       "    .dataframe thead th {\n",
       "        text-align: right;\n",
       "    }\n",
       "</style>\n",
       "<table border=\"1\" class=\"dataframe\">\n",
       "  <thead>\n",
       "    <tr style=\"text-align: right;\">\n",
       "      <th></th>\n",
       "      <th>0</th>\n",
       "    </tr>\n",
       "  </thead>\n",
       "  <tbody>\n",
       "    <tr>\n",
       "      <th>EMISS.CO2-C-CLACB-TX.A</th>\n",
       "      <td>value\n",
       "date                 \n",
       "20...</td>\n",
       "    </tr>\n",
       "    <tr>\n",
       "      <th>EMISS.CO2-C-CLRCB-TX.A</th>\n",
       "      <td>value\n",
       "date                 \n",
       "20...</td>\n",
       "    </tr>\n",
       "    <tr>\n",
       "      <th>EMISS.CO2-C-DFRCB-TX.A</th>\n",
       "      <td>value\n",
       "date             \n",
       "2016-01-01...</td>\n",
       "    </tr>\n",
       "    <tr>\n",
       "      <th>EMISS.CO2-C-HLRCB-TX.A</th>\n",
       "      <td>value\n",
       "date                 \n",
       "20...</td>\n",
       "    </tr>\n",
       "    <tr>\n",
       "      <th>EMISS.CO2-C-KSRCB-TX.A</th>\n",
       "      <td>value\n",
       "date                 \n",
       "20...</td>\n",
       "    </tr>\n",
       "    <tr>\n",
       "      <th>EMISS.CO2-C-NNRCB-TX.A</th>\n",
       "      <td>value\n",
       "date                 \n",
       "20...</td>\n",
       "    </tr>\n",
       "    <tr>\n",
       "      <th>EMISS.CO2-V-CLACB-TX.A</th>\n",
       "      <td>value\n",
       "date             \n",
       "2016-01-01...</td>\n",
       "    </tr>\n",
       "    <tr>\n",
       "      <th>EMISS.CO2-V-CLRCB-TX.A</th>\n",
       "      <td>value\n",
       "date                 ...</td>\n",
       "    </tr>\n",
       "  </tbody>\n",
       "</table>\n",
       "</div>"
      ],
      "text/plain": [
       "                                                                        0\n",
       "EMISS.CO2-C-CLACB-TX.A                  value\n",
       "date                 \n",
       "20...\n",
       "EMISS.CO2-C-CLRCB-TX.A                  value\n",
       "date                 \n",
       "20...\n",
       "EMISS.CO2-C-DFRCB-TX.A              value\n",
       "date             \n",
       "2016-01-01...\n",
       "EMISS.CO2-C-HLRCB-TX.A                  value\n",
       "date                 \n",
       "20...\n",
       "EMISS.CO2-C-KSRCB-TX.A                  value\n",
       "date                 \n",
       "20...\n",
       "EMISS.CO2-C-NNRCB-TX.A                  value\n",
       "date                 \n",
       "20...\n",
       "EMISS.CO2-V-CLACB-TX.A              value\n",
       "date             \n",
       "2016-01-01...\n",
       "EMISS.CO2-V-CLRCB-TX.A                     value\n",
       "date                 ..."
      ]
     },
     "execution_count": 124,
     "metadata": {},
     "output_type": "execute_result"
    }
   ],
   "source": [
    "pd.DataFrame.from_dict(ddf, orient='index')"
   ]
  },
  {
   "cell_type": "code",
   "execution_count": 116,
   "metadata": {},
   "outputs": [],
   "source": [
    "json_data = api_series('EMISS.CO2-C-CLACB-TX.A',API_KEY)"
   ]
  },
  {
   "cell_type": "code",
   "execution_count": 120,
   "metadata": {},
   "outputs": [
    {
     "data": {
      "text/plain": [
       "'EMISS.CO2-C-CLACB-TX.A'"
      ]
     },
     "execution_count": 120,
     "metadata": {},
     "output_type": "execute_result"
    }
   ],
   "source": [
    "json_data['series'][0]['series_id']"
   ]
  },
  {
   "cell_type": "code",
   "execution_count": 170,
   "metadata": {},
   "outputs": [
    {
     "data": {
      "text/html": [
       "<div>\n",
       "<style scoped>\n",
       "    .dataframe tbody tr th:only-of-type {\n",
       "        vertical-align: middle;\n",
       "    }\n",
       "\n",
       "    .dataframe tbody tr th {\n",
       "        vertical-align: top;\n",
       "    }\n",
       "\n",
       "    .dataframe thead th {\n",
       "        text-align: right;\n",
       "    }\n",
       "</style>\n",
       "<table border=\"1\" class=\"dataframe\">\n",
       "  <thead>\n",
       "    <tr style=\"text-align: right;\">\n",
       "      <th></th>\n",
       "    </tr>\n",
       "  </thead>\n",
       "  <tbody>\n",
       "  </tbody>\n",
       "</table>\n",
       "</div>"
      ],
      "text/plain": [
       "Empty DataFrame\n",
       "Columns: []\n",
       "Index: []"
      ]
     },
     "execution_count": 170,
     "metadata": {},
     "output_type": "execute_result"
    }
   ],
   "source": [
    "ddf = pd.DataFrame()\n",
    "ddf"
   ]
  },
  {
   "cell_type": "code",
   "execution_count": 173,
   "metadata": {},
   "outputs": [],
   "source": [
    "for i in co2_tx_series_id:\n",
    "    json_data = api_series(i,API_KEY)\n",
    "    name = json_data['series'][0]['series_id']\n",
    "    frame_data = data_frame_name(json_data)\n",
    "    ddf[name] = frame_data.iloc[:, 1]\n",
    "ddf.set_index(frame_data.iloc[:, 0], inplace=True)\n"
   ]
  },
  {
   "cell_type": "code",
   "execution_count": 202,
   "metadata": {},
   "outputs": [
    {
     "data": {
      "text/plain": [
       "Index(['EMISS.CO2-C-CLACB-TX.A', 'EMISS.CO2-C-CLRCB-TX.A',\n",
       "       'EMISS.CO2-C-DFRCB-TX.A', 'EMISS.CO2-C-HLRCB-TX.A',\n",
       "       'EMISS.CO2-C-KSRCB-TX.A', 'EMISS.CO2-C-NNRCB-TX.A',\n",
       "       'EMISS.CO2-V-CLACB-TX.A'],\n",
       "      dtype='object')"
      ]
     },
     "execution_count": 202,
     "metadata": {},
     "output_type": "execute_result"
    }
   ],
   "source": [
    "ddf.iloc[:, 0:7].columns"
   ]
  },
  {
   "cell_type": "code",
   "execution_count": 237,
   "metadata": {},
   "outputs": [
    {
     "data": {
      "image/png": "[encoded data removed]",
      "text/plain": [
       "<Figure size 720x288 with 1 Axes>"
      ]
     },
     "metadata": {},
     "output_type": "display_data"
    }
   ],
   "source": [
    "ax = ddf.iloc[:, 0:7].plot(figsize=(10,4))\n",
    "#ax.legend(bbox_to_anchor=(1.0, 0.8))\n",
    "#ax.legend( loc='center')\n",
    "ax.legend(bbox_to_anchor=(1.01, 1))\n",
    "plt.title('title')\n",
    "plt.show()"
   ]
  },
  {
   "cell_type": "code",
   "execution_count": 247,
   "metadata": {},
   "outputs": [
    {
     "data": {
      "image/png": "[encoded data removed]",
      "text/plain": [
       "<Figure size 720x288 with 1 Axes>"
      ]
     },
     "metadata": {},
     "output_type": "display_data"
    }
   ],
   "source": [
    "#ddf.iloc[:, 0:7].columns\n",
    "ddf.iloc[:, 7:8].plot(figsize=(10,4))\n",
    "ax.legend(bbox_to_anchor=(1.01, 1))\n",
    "plt.title('title')\n",
    "plt.show()"
   ]
  },
  {
   "cell_type": "code",
   "execution_count": 250,
   "metadata": {},
   "outputs": [
    {
     "data": {
      "text/plain": [
       "<matplotlib.axes._subplots.AxesSubplot at 0x7f3cf3244f98>"
      ]
     },
     "execution_count": 250,
     "metadata": {},
     "output_type": "execute_result"
    },
    {
     "data": {
      "image/png": "[encoded data removed]",
      "text/plain": [
       "<Figure size 432x288 with 1 Axes>"
      ]
     },
     "metadata": {},
     "output_type": "display_data"
    }
   ],
   "source": [
    "ddf[['EMISS.CO2-C-KSRCB-TX.A']].plot()\n",
    "#EMISS.CO2-V-KSRCB-TX.A"
   ]
  },
  {
   "cell_type": "markdown",
   "metadata": {},
   "source": [
    "## EIA Data Sets > Petroleum > Prices > Weekly Retail Gasoline and Diesel Prices > by Product > Gasoline - All Grades\n",
    "\n",
    "`http://api.eia.gov/category/?api_key=YOUR_API_KEY_HERE&category_id=241021`"
   ]
  },
  {
   "cell_type": "code",
   "execution_count": 253,
   "metadata": {},
   "outputs": [],
   "source": [
    "category_id = '241021'\n",
    "gas_all = api_category(category_id,API_KEY)"
   ]
  },
  {
   "cell_type": "code",
   "execution_count": 255,
   "metadata": {},
   "outputs": [
    {
     "data": {
      "text/plain": [
       "dict_keys(['request', 'category'])"
      ]
     },
     "execution_count": 255,
     "metadata": {},
     "output_type": "execute_result"
    }
   ],
   "source": [
    "gas_all.keys()"
   ]
  },
  {
   "cell_type": "code",
   "execution_count": 258,
   "metadata": {},
   "outputs": [
    {
     "name": "stdout",
     "output_type": "stream",
     "text": [
      "category_id\n",
      "parent_category_id\n",
      "name\n",
      "notes\n",
      "childcategories\n",
      "childseries\n"
     ]
    }
   ],
   "source": [
    "for i in gas_all['category'].keys():\n",
    "    print(i)"
   ]
  },
  {
   "cell_type": "code",
   "execution_count": 259,
   "metadata": {},
   "outputs": [
    {
     "data": {
      "text/plain": [
       "'Gasoline - All Grades'"
      ]
     },
     "execution_count": 259,
     "metadata": {},
     "output_type": "execute_result"
    }
   ],
   "source": [
    "gas_all['category']['name']"
   ]
  },
  {
   "cell_type": "code",
   "execution_count": 263,
   "metadata": {},
   "outputs": [
    {
     "data": {
      "text/plain": [
       "dict_keys(['series_id', 'name', 'f', 'units', 'updated'])"
      ]
     },
     "execution_count": 263,
     "metadata": {},
     "output_type": "execute_result"
    }
   ],
   "source": [
    "gas_all['category']['childseries'][0].keys()"
   ]
  },
  {
   "cell_type": "code",
   "execution_count": 268,
   "metadata": {},
   "outputs": [],
   "source": [
    "gas_all_df = pd.DataFrame.from_dict(gas_all['category']['childseries'])"
   ]
  },
  {
   "cell_type": "code",
   "execution_count": 331,
   "metadata": {},
   "outputs": [],
   "source": [
    "hou_filter = gas_all_df.name.str.contains('houston',case=False)\n",
    "tx_filter = gas_all_df.name.str.contains('texas',case=False)\n",
    "ca_filter = gas_all_df.name.str.contains('cal',case=False)\n",
    "ny_filter = gas_all_df.name.str.contains('New',case=False)"
   ]
  },
  {
   "cell_type": "code",
   "execution_count": null,
   "metadata": {},
   "outputs": [],
   "source": []
  },
  {
   "cell_type": "code",
   "execution_count": 332,
   "metadata": {},
   "outputs": [
    {
     "data": {
      "text/html": [
       "<div>\n",
       "<style scoped>\n",
       "    .dataframe tbody tr th:only-of-type {\n",
       "        vertical-align: middle;\n",
       "    }\n",
       "\n",
       "    .dataframe tbody tr th {\n",
       "        vertical-align: top;\n",
       "    }\n",
       "\n",
       "    .dataframe thead th {\n",
       "        text-align: right;\n",
       "    }\n",
       "</style>\n",
       "<table border=\"1\" class=\"dataframe\">\n",
       "  <thead>\n",
       "    <tr style=\"text-align: right;\">\n",
       "      <th></th>\n",
       "      <th>f</th>\n",
       "      <th>name</th>\n",
       "      <th>series_id</th>\n",
       "      <th>units</th>\n",
       "      <th>updated</th>\n",
       "    </tr>\n",
       "  </thead>\n",
       "  <tbody>\n",
       "    <tr>\n",
       "      <th>66</th>\n",
       "      <td>A</td>\n",
       "      <td>Houston All Grades All Formulations Retail Gas...</td>\n",
       "      <td>PET.EMM_EPM0_PTE_Y44HO_DPG.A</td>\n",
       "      <td>Dollars per Gallon</td>\n",
       "      <td>02-JAN-18 05.26.32 PM</td>\n",
       "    </tr>\n",
       "    <tr>\n",
       "      <th>67</th>\n",
       "      <td>M</td>\n",
       "      <td>Houston All Grades All Formulations Retail Gas...</td>\n",
       "      <td>PET.EMM_EPM0_PTE_Y44HO_DPG.M</td>\n",
       "      <td>Dollars per Gallon</td>\n",
       "      <td>26-NOV-18 05.24.54 PM</td>\n",
       "    </tr>\n",
       "    <tr>\n",
       "      <th>68</th>\n",
       "      <td>W</td>\n",
       "      <td>Houston All Grades All Formulations Retail Gas...</td>\n",
       "      <td>PET.EMM_EPM0_PTE_Y44HO_DPG.W</td>\n",
       "      <td>Dollars per Gallon</td>\n",
       "      <td>26-DEC-18 04.36.10 PM</td>\n",
       "    </tr>\n",
       "  </tbody>\n",
       "</table>\n",
       "</div>"
      ],
      "text/plain": [
       "    f                                               name  \\\n",
       "66  A  Houston All Grades All Formulations Retail Gas...   \n",
       "67  M  Houston All Grades All Formulations Retail Gas...   \n",
       "68  W  Houston All Grades All Formulations Retail Gas...   \n",
       "\n",
       "                       series_id               units                updated  \n",
       "66  PET.EMM_EPM0_PTE_Y44HO_DPG.A  Dollars per Gallon  02-JAN-18 05.26.32 PM  \n",
       "67  PET.EMM_EPM0_PTE_Y44HO_DPG.M  Dollars per Gallon  26-NOV-18 05.24.54 PM  \n",
       "68  PET.EMM_EPM0_PTE_Y44HO_DPG.W  Dollars per Gallon  26-DEC-18 04.36.10 PM  "
      ]
     },
     "execution_count": 332,
     "metadata": {},
     "output_type": "execute_result"
    }
   ],
   "source": [
    "gas_all_df[hou_filter]"
   ]
  },
  {
   "cell_type": "code",
   "execution_count": 333,
   "metadata": {},
   "outputs": [
    {
     "data": {
      "text/html": [
       "<div>\n",
       "<style scoped>\n",
       "    .dataframe tbody tr th:only-of-type {\n",
       "        vertical-align: middle;\n",
       "    }\n",
       "\n",
       "    .dataframe tbody tr th {\n",
       "        vertical-align: top;\n",
       "    }\n",
       "\n",
       "    .dataframe thead th {\n",
       "        text-align: right;\n",
       "    }\n",
       "</style>\n",
       "<table border=\"1\" class=\"dataframe\">\n",
       "  <thead>\n",
       "    <tr style=\"text-align: right;\">\n",
       "      <th></th>\n",
       "      <th>f</th>\n",
       "      <th>name</th>\n",
       "      <th>series_id</th>\n",
       "      <th>units</th>\n",
       "      <th>updated</th>\n",
       "    </tr>\n",
       "  </thead>\n",
       "  <tbody>\n",
       "    <tr>\n",
       "      <th>51</th>\n",
       "      <td>A</td>\n",
       "      <td>Texas All Grades All Formulations Retail Gasol...</td>\n",
       "      <td>PET.EMM_EPM0_PTE_STX_DPG.A</td>\n",
       "      <td>Dollars per Gallon</td>\n",
       "      <td>02-JAN-18 05.26.32 PM</td>\n",
       "    </tr>\n",
       "    <tr>\n",
       "      <th>52</th>\n",
       "      <td>M</td>\n",
       "      <td>Texas All Grades All Formulations Retail Gasol...</td>\n",
       "      <td>PET.EMM_EPM0_PTE_STX_DPG.M</td>\n",
       "      <td>Dollars per Gallon</td>\n",
       "      <td>26-NOV-18 05.24.54 PM</td>\n",
       "    </tr>\n",
       "    <tr>\n",
       "      <th>53</th>\n",
       "      <td>W</td>\n",
       "      <td>Texas All Grades All Formulations Retail Gasol...</td>\n",
       "      <td>PET.EMM_EPM0_PTE_STX_DPG.W</td>\n",
       "      <td>Dollars per Gallon</td>\n",
       "      <td>26-DEC-18 04.36.10 PM</td>\n",
       "    </tr>\n",
       "  </tbody>\n",
       "</table>\n",
       "</div>"
      ],
      "text/plain": [
       "    f                                               name  \\\n",
       "51  A  Texas All Grades All Formulations Retail Gasol...   \n",
       "52  M  Texas All Grades All Formulations Retail Gasol...   \n",
       "53  W  Texas All Grades All Formulations Retail Gasol...   \n",
       "\n",
       "                     series_id               units                updated  \n",
       "51  PET.EMM_EPM0_PTE_STX_DPG.A  Dollars per Gallon  02-JAN-18 05.26.32 PM  \n",
       "52  PET.EMM_EPM0_PTE_STX_DPG.M  Dollars per Gallon  26-NOV-18 05.24.54 PM  \n",
       "53  PET.EMM_EPM0_PTE_STX_DPG.W  Dollars per Gallon  26-DEC-18 04.36.10 PM  "
      ]
     },
     "execution_count": 333,
     "metadata": {},
     "output_type": "execute_result"
    }
   ],
   "source": [
    "gas_all_df[tx_filter]"
   ]
  },
  {
   "cell_type": "markdown",
   "metadata": {},
   "source": [
    "## Select\n",
    "- `PET.EMM_EPM0_PTE_Y44HO_DPG.W`\n",
    "- `PET.EMM_EPM0_PTE_STX_DPG.W`"
   ]
  },
  {
   "cell_type": "code",
   "execution_count": 334,
   "metadata": {},
   "outputs": [],
   "source": [
    "series_id_hou = 'PET.EMM_EPM0_PTE_Y44HO_DPG.W'  # hou\n",
    "series_id_tx = 'PET.EMM_EPM0_PTE_STX_DPG.W'  # TX\n",
    "series_id_ca = 'PET.EMM_EPM0_PTE_SCA_DPG.W'  # CA\n",
    "series_id_ny = 'PET.EMM_EPM0_PTE_SNY_DPG.W'  #NY"
   ]
  },
  {
   "cell_type": "code",
   "execution_count": 318,
   "metadata": {},
   "outputs": [],
   "source": [
    "ca_gas_weekly = api_series_to_df(series_id_ca,API_KEY)"
   ]
  },
  {
   "cell_type": "code",
   "execution_count": 325,
   "metadata": {},
   "outputs": [],
   "source": [
    "ny_gas_weekly = api_series_to_df(series_id_ny,API_KEY)\n",
    "hou_gas_weekly = api_series_to_df(series_id_hou,API_KEY)\n",
    "tx_gas_weekly = api_series_to_df(series_id_tx,API_KEY)"
   ]
  },
  {
   "cell_type": "code",
   "execution_count": 335,
   "metadata": {},
   "outputs": [
    {
     "data": {
      "image/png": "[encoded data removed]",
      "text/plain": [
       "<Figure size 720x288 with 1 Axes>"
      ]
     },
     "metadata": {},
     "output_type": "display_data"
    }
   ],
   "source": [
    "ax = tx_gas_weekly.plot(figsize=(10,4))\n",
    "#hou_gas_weekly.plot(ax=ax)\n",
    "ca_gas_weekly.plot(ax=ax)\n",
    "ny_gas_weekly.plot(ax=ax)\n",
    "ax.legend([\"Texas\",'California','New York'])\n",
    "plt.title('Gas prices')\n",
    "plt.show()"
   ]
  },
  {
   "cell_type": "code",
   "execution_count": null,
   "metadata": {},
   "outputs": [],
   "source": []
  },
  {
   "cell_type": "code",
   "execution_count": null,
   "metadata": {},
   "outputs": [],
   "source": []
  }
 ],
 "metadata": {
  "kernelspec": {
   "display_name": "Python 3",
   "language": "python",
   "name": "python3"
  },
  "language_info": {
   "codemirror_mode": {
    "name": "ipython",
    "version": 3
   },
   "file_extension": ".py",
   "mimetype": "text/x-python",
   "name": "python",
   "nbconvert_exporter": "python",
   "pygments_lexer": "ipython3",
   "version": "3.7.2"
  }
 },
 "nbformat": 4,
 "nbformat_minor": 2
}
