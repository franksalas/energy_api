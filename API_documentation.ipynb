{
 "cells": [
  {
   "cell_type": "markdown",
   "metadata": {},
   "source": [
    "# EIA.gov\n",
    "\n",
    "- https://www.eia.gov/opendata/\n",
    "- https://www.eia.gov/opendata/qb.cfm\n",
    "\n",
    "## Documentation\n",
    "- https://www.eia.gov/opendata/commands.php\n"
   ]
  },
  {
   "cell_type": "code",
   "execution_count": 212,
   "metadata": {},
   "outputs": [],
   "source": [
    "# load our requirements\n",
    "import requests\n",
    "import pandas as pd\n",
    "import numpy as np\n",
    "import matplotlib.pyplot as plt\n",
    "import seaborn as sns\n",
    "from pprint import pprint\n",
    "from datetime import datetime \n",
    "plt.style.use('ggplot')"
   ]
  },
  {
   "cell_type": "markdown",
   "metadata": {},
   "source": [
    "### API key"
   ]
  },
  {
   "cell_type": "code",
   "execution_count": 213,
   "metadata": {},
   "outputs": [],
   "source": [
    "API_KEY = '09d7859f71b9796ca3b1e0c50da15d5b'"
   ]
  },
  {
   "cell_type": "markdown",
   "metadata": {},
   "source": [
    "---\n",
    "# API Category Query\n",
    "\n",
    "Gets name and id for a single category, and also lists its children categories' names and ids.\n",
    "\n",
    "## `http://api.eia.gov/category/?api_key=YOUR_API_KEY_HERE[&category_id=nn][&out=xml|json]`\n",
    "\n",
    "- **category _id**: Optional. A unique numerical id of the category to fetch. If missing, the API's root category is fetched."
   ]
  },
  {
   "cell_type": "code",
   "execution_count": 214,
   "metadata": {},
   "outputs": [],
   "source": [
    "def category(api_key=None, category_id=None):\n",
    "    '''\n",
    "    input: api_key, category_id\n",
    "    return: dict of category\n",
    "    '''\n",
    "    url = 'http://api.eia.gov/category/'\n",
    "    payload = {'api_key':api_key,\n",
    "               'category_id':category_id}\n",
    "    r = requests.get(url, params=payload)\n",
    "    return r.json()"
   ]
  },
  {
   "cell_type": "code",
   "execution_count": 215,
   "metadata": {},
   "outputs": [],
   "source": [
    "category_id = '371'\n",
    "eia = category(API_KEY, category_id)"
   ]
  },
  {
   "cell_type": "code",
   "execution_count": 216,
   "metadata": {},
   "outputs": [
    {
     "data": {
      "text/plain": [
       "{'request': {'category_id': 371, 'command': 'category'},\n",
       " 'category': {'category_id': '371',\n",
       "  'parent_category_id': None,\n",
       "  'name': 'EIA Data Sets',\n",
       "  'notes': '',\n",
       "  'childcategories': [{'category_id': 0, 'name': 'Electricity'},\n",
       "   {'category_id': 40203, 'name': 'State Energy Data System (SEDS)'},\n",
       "   {'category_id': 711224, 'name': 'Total Energy'},\n",
       "   {'category_id': 714755, 'name': 'Petroleum'},\n",
       "   {'category_id': 714804, 'name': 'Natural Gas'},\n",
       "   {'category_id': 717234, 'name': 'Coal'},\n",
       "   {'category_id': 829714, 'name': 'Short-Term Energy Outlook'},\n",
       "   {'category_id': 964164, 'name': 'Annual Energy Outlook'},\n",
       "   {'category_id': 1292190, 'name': 'Crude Oil Imports'},\n",
       "   {'category_id': 2123635, 'name': 'U.S. Electric System Operating Data'},\n",
       "   {'category_id': 2134384, 'name': 'International Energy Data'},\n",
       "   {'category_id': 2251604, 'name': 'CO2 Emissions'},\n",
       "   {'category_id': 2631064, 'name': 'International Energy Outlook'},\n",
       "   {'category_id': 2889994, 'name': 'U.S. Nuclear Outages'}],\n",
       "  'childseries': []}}"
      ]
     },
     "execution_count": 216,
     "metadata": {},
     "output_type": "execute_result"
    }
   ],
   "source": [
    "eia"
   ]
  },
  {
   "cell_type": "markdown",
   "metadata": {},
   "source": [
    "---\n",
    "\n",
    "# API Series Query\n",
    "\n",
    "\n",
    "Returns the series ID followed by the series data as an array of date-value pairs. Dates are formatted as yyyy, yyyyQq, yyyymm, yyyymmdd for annual, quarterly, monthly, and daily/weekly data respectively. Values are either numeric if valid, \"null\" is missing, \"w\" if withheld, or \"*\" is statistically insignificant. Additional codes may be defined in future releases.\n",
    "\n",
    "\n",
    "## `http://api.eia.gov/series/?series_id=sssssss&api_key=YOUR_API_KEY_HERE[&num=][&out=xml|json]`\n",
    "\n",
    "**series_id**: Required. The series id (also called source key) is a case-insensitive string consisting of letters, numbers, dashes (\"-\") and periods (\".\") that uniquely identifies an EIA series. Multiple series can be fetched in a single request by using a semi-colon separated list of series id's. The number of series in a single request is limited to 100.\n",
    "\n"
   ]
  },
  {
   "cell_type": "code",
   "execution_count": 217,
   "metadata": {},
   "outputs": [],
   "source": [
    "def series(api_key=None,series_id=None):\n",
    "    '''input: series_id, api_key\n",
    "    return: dic of series_id'''\n",
    "    if series_id == None:\n",
    "        print ('Yo you need a seres value')\n",
    "        return None\n",
    "    url = 'http://api.eia.gov/series/'\n",
    "    payload = {'api_key':api_key,\n",
    "               'series_id':series_id}\n",
    "    r = requests.get(url, params=payload)\n",
    "    return r.json()"
   ]
  },
  {
   "cell_type": "code",
   "execution_count": 218,
   "metadata": {},
   "outputs": [],
   "source": [
    "series_id = 'ELEC.GEN.ALL-TX-98.M'\n",
    "\n",
    "s = series(API_KEY,series_id)"
   ]
  },
  {
   "cell_type": "code",
   "execution_count": 220,
   "metadata": {},
   "outputs": [
    {
     "data": {
      "text/plain": [
       "dict_keys(['request', 'series'])"
      ]
     },
     "execution_count": 220,
     "metadata": {},
     "output_type": "execute_result"
    }
   ],
   "source": [
    "s.keys()"
   ]
  },
  {
   "cell_type": "code",
   "execution_count": 221,
   "metadata": {},
   "outputs": [
    {
     "data": {
      "text/plain": [
       "dict_keys(['series_id', 'name', 'units', 'f', 'description', 'copyright', 'source', 'iso3166', 'geography', 'start', 'end', 'updated', 'data'])"
      ]
     },
     "execution_count": 221,
     "metadata": {},
     "output_type": "execute_result"
    }
   ],
   "source": [
    "s['series'][0].keys()"
   ]
  },
  {
   "cell_type": "code",
   "execution_count": 222,
   "metadata": {},
   "outputs": [],
   "source": [
    "series = s['series'][0]"
   ]
  },
  {
   "cell_type": "code",
   "execution_count": 224,
   "metadata": {},
   "outputs": [
    {
     "data": {
      "text/plain": [
       "'Net generation : all fuels : Texas : electric power (total) : monthly'"
      ]
     },
     "execution_count": 224,
     "metadata": {},
     "output_type": "execute_result"
    }
   ],
   "source": [
    "series['name']"
   ]
  },
  {
   "cell_type": "markdown",
   "metadata": {},
   "source": [
    "### Get data"
   ]
  },
  {
   "cell_type": "code",
   "execution_count": 227,
   "metadata": {},
   "outputs": [],
   "source": [
    "# series['data']"
   ]
  },
  {
   "cell_type": "markdown",
   "metadata": {},
   "source": [
    "---\n",
    "# API Geoset Query\n",
    "\n",
    "Gets a set of the series belonging to the geoset requested by `geoset_id` input parameter and matching the list of regions requested defined in the regions input parameter. If a series does not exist Only the series matching the regions requested are returned. The fields of each series returned is described in the series command documentation.\n",
    "\n",
    "A geoset is a relational metadata structure that organizes time series into sets that can be mapped. The geoset command is used by free EIA Visualization Library to create embeddable interactive maps. The API's API Browser contains code snippets and live examples of how to map each geoset contained in the EIA data API. EIA's entire State Energy Data System, Coal , Electricity, International data sets are organized into geosets and can be mappe using the libaray. Follow the links for examples of how to use the EIA Visualization Library with no coding required.\n",
    "\n",
    "Coders wanting to create their own visualization library can call the geoset command using the following parameters:\n",
    "\n",
    "### `http://api.eia.gov/geoset/?geoset_id=sssssss&regions=region1,region2,region3,...&api_key=YOUR_API_KEY_HERE[&start=|&num=][&end=][&out=xml|json]`\n",
    "\n",
    "\n",
    "- **geoset_id**: Required. The series id (also called source key) is a case-insensitive string consisting of letters, numbers, dashes (\"-\") and periods (\".\") that uniquely identifies an EIA series.\n",
    "\n",
    "- **regions**: Required. A semicolon-separated list of region codes requested. Series whose geoset_id and region fields match will be returned.\n"
   ]
  },
  {
   "cell_type": "code",
   "execution_count": 228,
   "metadata": {},
   "outputs": [],
   "source": [
    "# example"
   ]
  },
  {
   "cell_type": "markdown",
   "metadata": {},
   "source": [
    "---\n",
    "# API Relation Query\n",
    "\n",
    "Gets a set of the series belonging to the relation requested for the region requested. A relation is an EIA defined metadata structure that indicates breakdowns or details of summary statistics into composite statistics. Relations are defined between geosets, and therefore apply to all of the geoset's time series.\n",
    "\n",
    "The relation command is used by free EIA Visualization Library to create embeddable interactive maps displaying these breakdowns. The API Browser contains code snippets and live examples of of interactive visualizations that how to create contained in the EIA data API. Relations can be found, when applicable, in EIA's State Energy Data System, Coal , Electricity, International data sets. Follow the links for examples of how to use the EIA Visualization Library to create interactive maps and charts using relationships (no coding required.)\n",
    "\n",
    "Coders wanting to create their own visualization library can call the geoset command using the following parameters:\n",
    "\n",
    "### `http://api.eia.gov/relation/?relation_id=rrrrrrr&region=region1&api_key=YOUR_API_KEY_HERE[&start=|&num=][&end=][&out=xml|json]`\n",
    "\n",
    "- **geoset_id**: Required. The series id (also called source key) is a case-insensitive string consisting of letters, numbers, dashes (\"-\") and periods (\".\") that uniquely identifies an EIA series.\n",
    "\n",
    "- **regions**: Required. A semicolon-separated list of region codes requested. Series whose geoset_id and region fields match will be returned."
   ]
  },
  {
   "cell_type": "code",
   "execution_count": null,
   "metadata": {},
   "outputs": [],
   "source": []
  },
  {
   "cell_type": "code",
   "execution_count": null,
   "metadata": {},
   "outputs": [],
   "source": []
  },
  {
   "cell_type": "code",
   "execution_count": 201,
   "metadata": {},
   "outputs": [
    {
     "data": {
      "text/plain": [
       "dict_keys(['request', 'category'])"
      ]
     },
     "execution_count": 201,
     "metadata": {},
     "output_type": "execute_result"
    }
   ],
   "source": [
    "eia.keys()"
   ]
  },
  {
   "cell_type": "markdown",
   "metadata": {},
   "source": [
    "---\n",
    "# API Updates Data Query\n",
    "\n",
    "Many applications will need to maintain a copy of EIA data to drive heavy data-processing and republishing operations. The update query allows your application to efficiently stay current with EIA's data releases while staying within the Terms of Service agreement which prohibits excessive server requests, such as repeatedly requesting all the data series in the EIA API. Currently, the EIA API contains 465,000 electricity series organized into 39,000 categories. As we add petroleum, natural gas, international, and state estimates over the coming months, this number will swell to over a million series. Continuous requesting all the series in the EIA API may lead to a termination of your license key. The update query avoids this problem by allowing your application to find out if anything has been updated in electricity prices for example, and only quest data is the series have been updated using the series/data query.\n",
    "\n",
    "Returns a paginated list of series in descending order by the series' last updated date (i.e. most recent updates first). Only the series_id and the series updated date are returned. If a category_id is specified, only series belonging to that category are checked. If a start category is not specified, the query defaults to the API's root category. If the optional variable \"deep\" is set to true, the entire branch of the category tree if checked for updates, otherwise only series belonging to the specified category are checked.\n",
    "\n",
    "### `http://api.eia.gov/updates/?api_key=YOUR_API_KEY_HERE[&category_id=X][&deep=true|false][&firstrow=nnnnn][&rows=nn][&out=xml|json]`\n",
    "\n",
    "- **category _id**: Optional. A unique numerical id of the start category to fetch. If missing, the API's root category is fetched.\n",
    "\n",
    "- **deep**: Optional. If true, include the series in all descendent categories. If missing or false, only series directly in the start category will be returned.\n",
    "\n",
    "- **rows**: Optional. Determines the maximum number of rows returned for each request, up to 10,000. Missing or invalid value results a default value of 50 as the maximum rows returned with each call.\n",
    "\n",
    "- **firstrow**: Optional. Integer specifying the zero-based index of the first row to return, providing a means to page through the updated series. Note that it is possible to page through the all of the API's series in this manner"
   ]
  },
  {
   "cell_type": "code",
   "execution_count": 126,
   "metadata": {},
   "outputs": [],
   "source": [
    "# example"
   ]
  },
  {
   "cell_type": "code",
   "execution_count": null,
   "metadata": {},
   "outputs": [],
   "source": []
  },
  {
   "cell_type": "markdown",
   "metadata": {},
   "source": [
    "---\n",
    "# API Search Data Query\n",
    "Returns the series ID as an array followed by series facet data as an array. Additional codes may be defined in future releases.\n",
    "\n"
   ]
  },
  {
   "cell_type": "code",
   "execution_count": 162,
   "metadata": {},
   "outputs": [],
   "source": [
    "def search(search_term=None, search_value=None):\n",
    "    url = 'http://api.eia.gov/search/'\n",
    "    payload = {'search_term':search_term,\n",
    "               'search_value':search_value}\n",
    "    r = requests.get(url, params=payload)\n",
    "    return r.json()"
   ]
  },
  {
   "cell_type": "code",
   "execution_count": 182,
   "metadata": {},
   "outputs": [],
   "source": [
    "search_term = 'series_id'\n",
    "search_value = 'PET.MB'\n",
    "s = search(search_term,search_value)\n",
    "#s = search()"
   ]
  },
  {
   "cell_type": "code",
   "execution_count": 183,
   "metadata": {},
   "outputs": [
    {
     "data": {
      "text/plain": [
       "dict_keys(['responseHeader', 'response', 'facet_counts'])"
      ]
     },
     "execution_count": 183,
     "metadata": {},
     "output_type": "execute_result"
    }
   ],
   "source": [
    "s.keys()"
   ]
  },
  {
   "cell_type": "code",
   "execution_count": 184,
   "metadata": {},
   "outputs": [
    {
     "data": {
      "text/plain": [
       "dict_keys(['numFound', 'start', 'docs'])"
      ]
     },
     "execution_count": 184,
     "metadata": {},
     "output_type": "execute_result"
    }
   ],
   "source": [
    "s['response'].keys()"
   ]
  },
  {
   "cell_type": "code",
   "execution_count": 187,
   "metadata": {},
   "outputs": [
    {
     "data": {
      "text/plain": [
       "116"
      ]
     },
     "execution_count": 187,
     "metadata": {},
     "output_type": "execute_result"
    }
   ],
   "source": [
    "s['response']['numFound']"
   ]
  },
  {
   "cell_type": "code",
   "execution_count": null,
   "metadata": {},
   "outputs": [],
   "source": []
  },
  {
   "cell_type": "code",
   "execution_count": null,
   "metadata": {},
   "outputs": [],
   "source": []
  },
  {
   "cell_type": "code",
   "execution_count": 190,
   "metadata": {},
   "outputs": [
    {
     "data": {
      "text/plain": [
       "dict_keys(['status', 'QTime', 'params'])"
      ]
     },
     "execution_count": 190,
     "metadata": {},
     "output_type": "execute_result"
    }
   ],
   "source": [
    "s['responseHeader'].keys()"
   ]
  },
  {
   "cell_type": "code",
   "execution_count": 191,
   "metadata": {},
   "outputs": [
    {
     "data": {
      "text/plain": [
       "dict_keys(['q', 'facet.field', 'indent', 'fl', 'start', 'facet.mincount', 'sort', 'rows', 'version', 'wt', 'facet', 'facet.sort'])"
      ]
     },
     "execution_count": 191,
     "metadata": {},
     "output_type": "execute_result"
    }
   ],
   "source": [
    "s['responseHeader']['params'].keys()"
   ]
  },
  {
   "cell_type": "code",
   "execution_count": 192,
   "metadata": {},
   "outputs": [
    {
     "data": {
      "text/plain": [
       "{'q': '(series_id:PET.MB)',\n",
       " 'facet.field': ['data_set',\n",
       "  'frequency',\n",
       "  'iso3166',\n",
       "  'units',\n",
       "  'region',\n",
       "  'region_2',\n",
       "  'last_updated'],\n",
       " 'indent': 'on',\n",
       " 'fl': 'series_id,name,units,frequency',\n",
       " 'start': '0',\n",
       " 'facet.mincount': '1',\n",
       " 'sort': 'name_len asc,series_id asc',\n",
       " 'rows': '10',\n",
       " 'version': '2.2',\n",
       " 'wt': 'json',\n",
       " 'facet': 'true',\n",
       " 'facet.sort': 'count'}"
      ]
     },
     "execution_count": 192,
     "metadata": {},
     "output_type": "execute_result"
    }
   ],
   "source": [
    "s['responseHeader']['params']"
   ]
  },
  {
   "cell_type": "code",
   "execution_count": 193,
   "metadata": {},
   "outputs": [
    {
     "data": {
      "text/plain": [
       "dict_keys(['numFound', 'start', 'docs'])"
      ]
     },
     "execution_count": 193,
     "metadata": {},
     "output_type": "execute_result"
    }
   ],
   "source": [
    "s['response'].keys()"
   ]
  },
  {
   "cell_type": "code",
   "execution_count": 135,
   "metadata": {},
   "outputs": [
    {
     "data": {
      "text/plain": [
       "dict_keys(['facet_queries', 'facet_fields', 'facet_ranges', 'facet_intervals', 'facet_heatmaps'])"
      ]
     },
     "execution_count": 135,
     "metadata": {},
     "output_type": "execute_result"
    }
   ],
   "source": [
    "s['facet_counts'].keys()"
   ]
  },
  {
   "cell_type": "code",
   "execution_count": null,
   "metadata": {},
   "outputs": [],
   "source": []
  },
  {
   "cell_type": "code",
   "execution_count": null,
   "metadata": {},
   "outputs": [],
   "source": []
  }
 ],
 "metadata": {
  "kernelspec": {
   "display_name": "Python 3",
   "language": "python",
   "name": "python3"
  },
  "language_info": {
   "codemirror_mode": {
    "name": "ipython",
    "version": 3
   },
   "file_extension": ".py",
   "mimetype": "text/x-python",
   "name": "python",
   "nbconvert_exporter": "python",
   "pygments_lexer": "ipython3",
   "version": "3.7.2"
  }
 },
 "nbformat": 4,
 "nbformat_minor": 2
}
